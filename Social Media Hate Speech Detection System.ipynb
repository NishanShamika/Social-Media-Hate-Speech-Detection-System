{
  "nbformat": 4,
  "nbformat_minor": 0,
  "metadata": {
    "colab": {
      "provenance": []
    },
    "kernelspec": {
      "name": "python3",
      "display_name": "Python 3"
    },
    "language_info": {
      "name": "python"
    }
  },
  "cells": [
    {
      "cell_type": "markdown",
      "source": [
        "import libraries"
      ],
      "metadata": {
        "id": "andKC-m_sKyG"
      }
    },
    {
      "cell_type": "code",
      "execution_count": null,
      "metadata": {
        "id": "qcaJGUmGweI3"
      },
      "outputs": [],
      "source": [
        "import pandas as pd\n",
        "import numpy as np\n",
        "import matplotlib.pyplot as plt"
      ]
    },
    {
      "cell_type": "code",
      "source": [
        "from google.colab import drive\n",
        "drive.mount(\"/content/gdrive\")"
      ],
      "metadata": {
        "colab": {
          "base_uri": "https://localhost:8080/"
        },
        "id": "hfGi6-FWw9iz",
        "outputId": "ca533728-b51d-4197-9487-13a95d27a3e0"
      },
      "execution_count": null,
      "outputs": [
        {
          "output_type": "stream",
          "name": "stdout",
          "text": [
            "Drive already mounted at /content/gdrive; to attempt to forcibly remount, call drive.mount(\"/content/gdrive\", force_remount=True).\n"
          ]
        }
      ]
    },
    {
      "cell_type": "markdown",
      "source": [
        "Import dataset and remove unwanted columns"
      ],
      "metadata": {
        "id": "sZRcx3x9wvZl"
      }
    },
    {
      "cell_type": "code",
      "source": [
        "df = pd.read_csv('/content/gdrive/MyDrive/NLP/dataset.csv')\n",
        "df = df.iloc[0:100,2:4]\n",
        "df"
      ],
      "metadata": {
        "colab": {
          "base_uri": "https://localhost:8080/",
          "height": 424
        },
        "id": "gelcBLnvwyS8",
        "outputId": "f007e880-6e4d-4fb0-be49-5093119632c2"
      },
      "execution_count": null,
      "outputs": [
        {
          "output_type": "execute_result",
          "data": {
            "text/plain": [
              "                                            Statement Positive/Negative\n",
              "0   සාමාන්‍යයෙන් පෞද්ගලික චරිත ගැන ලියන්න හොද  නෑ....          Positive\n",
              "1   මම නුවරඑළියේ ඉදන් කොළඹට ඇවිල්ලා ගායකයෙක් වෙන්න...          Positive\n",
              "2   Ego system Vs. Eco system \\n\\nසාමාන්‍යයෙන් ලංක...          Positive\n",
              "3   අද උදේ දැකපු සුන්දර දර්ශණයක්. නුගේගොඩ St.Johns...          Positive\n",
              "4   Smoking is a bad habit \\nMenda , Danee🏏✌.\\nCri...          Positive\n",
              "..                                                ...               ...\n",
              "95  2022 බුකර් සම්මානය ලත් විශිෂ්ටතම කෘතිය  ශෙහාන්...          Positive\n",
              "96  ක්‍රිකටර්ස්ලත්  මිනිස්සු...සාමාන්‍යයෙන් පෞද්ගල...          Positive\n",
              "97  අද gaming/Streaming field එකේ ඉන්න අපේ තරුණ කෙ...          Positive\n",
              "98  ක්‍රමිකව ප්‍රාථමික අධ්‍යාපනයේ සිට සහා ගුරු පුහ...          Negative\n",
              "99  සයිබර් අපරාධ දෙකේ කොලේට දාලා කතාකරන පණ්ඩිත දාර...          Negative\n",
              "\n",
              "[100 rows x 2 columns]"
            ],
            "text/html": [
              "\n",
              "  <div id=\"df-94440288-8ed9-4404-beeb-7955e2475092\">\n",
              "    <div class=\"colab-df-container\">\n",
              "      <div>\n",
              "<style scoped>\n",
              "    .dataframe tbody tr th:only-of-type {\n",
              "        vertical-align: middle;\n",
              "    }\n",
              "\n",
              "    .dataframe tbody tr th {\n",
              "        vertical-align: top;\n",
              "    }\n",
              "\n",
              "    .dataframe thead th {\n",
              "        text-align: right;\n",
              "    }\n",
              "</style>\n",
              "<table border=\"1\" class=\"dataframe\">\n",
              "  <thead>\n",
              "    <tr style=\"text-align: right;\">\n",
              "      <th></th>\n",
              "      <th>Statement</th>\n",
              "      <th>Positive/Negative</th>\n",
              "    </tr>\n",
              "  </thead>\n",
              "  <tbody>\n",
              "    <tr>\n",
              "      <th>0</th>\n",
              "      <td>සාමාන්‍යයෙන් පෞද්ගලික චරිත ගැන ලියන්න හොද  නෑ....</td>\n",
              "      <td>Positive</td>\n",
              "    </tr>\n",
              "    <tr>\n",
              "      <th>1</th>\n",
              "      <td>මම නුවරඑළියේ ඉදන් කොළඹට ඇවිල්ලා ගායකයෙක් වෙන්න...</td>\n",
              "      <td>Positive</td>\n",
              "    </tr>\n",
              "    <tr>\n",
              "      <th>2</th>\n",
              "      <td>Ego system Vs. Eco system \\n\\nසාමාන්‍යයෙන් ලංක...</td>\n",
              "      <td>Positive</td>\n",
              "    </tr>\n",
              "    <tr>\n",
              "      <th>3</th>\n",
              "      <td>අද උදේ දැකපු සුන්දර දර්ශණයක්. නුගේගොඩ St.Johns...</td>\n",
              "      <td>Positive</td>\n",
              "    </tr>\n",
              "    <tr>\n",
              "      <th>4</th>\n",
              "      <td>Smoking is a bad habit \\nMenda , Danee🏏✌.\\nCri...</td>\n",
              "      <td>Positive</td>\n",
              "    </tr>\n",
              "    <tr>\n",
              "      <th>...</th>\n",
              "      <td>...</td>\n",
              "      <td>...</td>\n",
              "    </tr>\n",
              "    <tr>\n",
              "      <th>95</th>\n",
              "      <td>2022 බුකර් සම්මානය ලත් විශිෂ්ටතම කෘතිය  ශෙහාන්...</td>\n",
              "      <td>Positive</td>\n",
              "    </tr>\n",
              "    <tr>\n",
              "      <th>96</th>\n",
              "      <td>ක්‍රිකටර්ස්ලත්  මිනිස්සු...සාමාන්‍යයෙන් පෞද්ගල...</td>\n",
              "      <td>Positive</td>\n",
              "    </tr>\n",
              "    <tr>\n",
              "      <th>97</th>\n",
              "      <td>අද gaming/Streaming field එකේ ඉන්න අපේ තරුණ කෙ...</td>\n",
              "      <td>Positive</td>\n",
              "    </tr>\n",
              "    <tr>\n",
              "      <th>98</th>\n",
              "      <td>ක්‍රමිකව ප්‍රාථමික අධ්‍යාපනයේ සිට සහා ගුරු පුහ...</td>\n",
              "      <td>Negative</td>\n",
              "    </tr>\n",
              "    <tr>\n",
              "      <th>99</th>\n",
              "      <td>සයිබර් අපරාධ දෙකේ කොලේට දාලා කතාකරන පණ්ඩිත දාර...</td>\n",
              "      <td>Negative</td>\n",
              "    </tr>\n",
              "  </tbody>\n",
              "</table>\n",
              "<p>100 rows × 2 columns</p>\n",
              "</div>\n",
              "      <button class=\"colab-df-convert\" onclick=\"convertToInteractive('df-94440288-8ed9-4404-beeb-7955e2475092')\"\n",
              "              title=\"Convert this dataframe to an interactive table.\"\n",
              "              style=\"display:none;\">\n",
              "        \n",
              "  <svg xmlns=\"http://www.w3.org/2000/svg\" height=\"24px\"viewBox=\"0 0 24 24\"\n",
              "       width=\"24px\">\n",
              "    <path d=\"M0 0h24v24H0V0z\" fill=\"none\"/>\n",
              "    <path d=\"M18.56 5.44l.94 2.06.94-2.06 2.06-.94-2.06-.94-.94-2.06-.94 2.06-2.06.94zm-11 1L8.5 8.5l.94-2.06 2.06-.94-2.06-.94L8.5 2.5l-.94 2.06-2.06.94zm10 10l.94 2.06.94-2.06 2.06-.94-2.06-.94-.94-2.06-.94 2.06-2.06.94z\"/><path d=\"M17.41 7.96l-1.37-1.37c-.4-.4-.92-.59-1.43-.59-.52 0-1.04.2-1.43.59L10.3 9.45l-7.72 7.72c-.78.78-.78 2.05 0 2.83L4 21.41c.39.39.9.59 1.41.59.51 0 1.02-.2 1.41-.59l7.78-7.78 2.81-2.81c.8-.78.8-2.07 0-2.86zM5.41 20L4 18.59l7.72-7.72 1.47 1.35L5.41 20z\"/>\n",
              "  </svg>\n",
              "      </button>\n",
              "      \n",
              "  <style>\n",
              "    .colab-df-container {\n",
              "      display:flex;\n",
              "      flex-wrap:wrap;\n",
              "      gap: 12px;\n",
              "    }\n",
              "\n",
              "    .colab-df-convert {\n",
              "      background-color: #E8F0FE;\n",
              "      border: none;\n",
              "      border-radius: 50%;\n",
              "      cursor: pointer;\n",
              "      display: none;\n",
              "      fill: #1967D2;\n",
              "      height: 32px;\n",
              "      padding: 0 0 0 0;\n",
              "      width: 32px;\n",
              "    }\n",
              "\n",
              "    .colab-df-convert:hover {\n",
              "      background-color: #E2EBFA;\n",
              "      box-shadow: 0px 1px 2px rgba(60, 64, 67, 0.3), 0px 1px 3px 1px rgba(60, 64, 67, 0.15);\n",
              "      fill: #174EA6;\n",
              "    }\n",
              "\n",
              "    [theme=dark] .colab-df-convert {\n",
              "      background-color: #3B4455;\n",
              "      fill: #D2E3FC;\n",
              "    }\n",
              "\n",
              "    [theme=dark] .colab-df-convert:hover {\n",
              "      background-color: #434B5C;\n",
              "      box-shadow: 0px 1px 3px 1px rgba(0, 0, 0, 0.15);\n",
              "      filter: drop-shadow(0px 1px 2px rgba(0, 0, 0, 0.3));\n",
              "      fill: #FFFFFF;\n",
              "    }\n",
              "  </style>\n",
              "\n",
              "      <script>\n",
              "        const buttonEl =\n",
              "          document.querySelector('#df-94440288-8ed9-4404-beeb-7955e2475092 button.colab-df-convert');\n",
              "        buttonEl.style.display =\n",
              "          google.colab.kernel.accessAllowed ? 'block' : 'none';\n",
              "\n",
              "        async function convertToInteractive(key) {\n",
              "          const element = document.querySelector('#df-94440288-8ed9-4404-beeb-7955e2475092');\n",
              "          const dataTable =\n",
              "            await google.colab.kernel.invokeFunction('convertToInteractive',\n",
              "                                                     [key], {});\n",
              "          if (!dataTable) return;\n",
              "\n",
              "          const docLinkHtml = 'Like what you see? Visit the ' +\n",
              "            '<a target=\"_blank\" href=https://colab.research.google.com/notebooks/data_table.ipynb>data table notebook</a>'\n",
              "            + ' to learn more about interactive tables.';\n",
              "          element.innerHTML = '';\n",
              "          dataTable['output_type'] = 'display_data';\n",
              "          await google.colab.output.renderOutput(dataTable, element);\n",
              "          const docLink = document.createElement('div');\n",
              "          docLink.innerHTML = docLinkHtml;\n",
              "          element.appendChild(docLink);\n",
              "        }\n",
              "      </script>\n",
              "    </div>\n",
              "  </div>\n",
              "  "
            ]
          },
          "metadata": {},
          "execution_count": 337
        }
      ]
    },
    {
      "cell_type": "markdown",
      "source": [
        "finding the null values"
      ],
      "metadata": {
        "id": "-OOk_QfjsUi7"
      }
    },
    {
      "cell_type": "code",
      "source": [
        "df.isnull().any()"
      ],
      "metadata": {
        "colab": {
          "base_uri": "https://localhost:8080/"
        },
        "id": "jyVlUg9WBQPX",
        "outputId": "b21a0b17-4cf8-482f-b39b-221736db403b"
      },
      "execution_count": null,
      "outputs": [
        {
          "output_type": "execute_result",
          "data": {
            "text/plain": [
              "Statement            True\n",
              "Positive/Negative    True\n",
              "dtype: bool"
            ]
          },
          "metadata": {},
          "execution_count": 338
        }
      ]
    },
    {
      "cell_type": "markdown",
      "source": [
        "number of null values"
      ],
      "metadata": {
        "id": "28uB_e19vZQ7"
      }
    },
    {
      "cell_type": "code",
      "source": [
        "df.isnull().sum()"
      ],
      "metadata": {
        "colab": {
          "base_uri": "https://localhost:8080/"
        },
        "id": "waJu7kAYD8Uc",
        "outputId": "9a08d3c5-b906-4f3d-8365-7101637c630b"
      },
      "execution_count": null,
      "outputs": [
        {
          "output_type": "execute_result",
          "data": {
            "text/plain": [
              "Statement            1\n",
              "Positive/Negative    1\n",
              "dtype: int64"
            ]
          },
          "metadata": {},
          "execution_count": 339
        }
      ]
    },
    {
      "cell_type": "code",
      "source": [
        "df.shape"
      ],
      "metadata": {
        "colab": {
          "base_uri": "https://localhost:8080/"
        },
        "id": "fAF8kbMXD2d6",
        "outputId": "402141c0-484b-41d9-9aa1-6a81f3bda1d6"
      },
      "execution_count": null,
      "outputs": [
        {
          "output_type": "execute_result",
          "data": {
            "text/plain": [
              "(100, 2)"
            ]
          },
          "metadata": {},
          "execution_count": 340
        }
      ]
    },
    {
      "cell_type": "markdown",
      "source": [
        "remove null values"
      ],
      "metadata": {
        "id": "16t5EeAqyqc7"
      }
    },
    {
      "cell_type": "code",
      "source": [
        "df.dropna(subset = [\"Positive/Negative\"], inplace=True)\n",
        "print(df.isnull().sum())\n",
        "print(df.shape)"
      ],
      "metadata": {
        "colab": {
          "base_uri": "https://localhost:8080/"
        },
        "id": "ojL_XRTBEMD9",
        "outputId": "b292da16-8cdb-425e-9beb-2e62de3f3e81"
      },
      "execution_count": null,
      "outputs": [
        {
          "output_type": "stream",
          "name": "stdout",
          "text": [
            "Statement            0\n",
            "Positive/Negative    0\n",
            "dtype: int64\n",
            "(99, 2)\n"
          ]
        }
      ]
    },
    {
      "cell_type": "markdown",
      "source": [
        "reset index"
      ],
      "metadata": {
        "id": "pMSi3891y8OT"
      }
    },
    {
      "cell_type": "code",
      "source": [
        "df = df.reset_index(drop=True)"
      ],
      "metadata": {
        "id": "4IOhbd71EsjL"
      },
      "execution_count": null,
      "outputs": []
    },
    {
      "cell_type": "markdown",
      "source": [
        "replace positive with 1 and replace negative with 0"
      ],
      "metadata": {
        "id": "6soQ5s-tyuSz"
      }
    },
    {
      "cell_type": "code",
      "source": [
        "df['Positive/Negative'].replace('Positive', 1, True)\n",
        "df['Positive/Negative'].replace('Negative', 0, True)\n",
        "df"
      ],
      "metadata": {
        "colab": {
          "base_uri": "https://localhost:8080/",
          "height": 424
        },
        "id": "B0m-KvdKFSLc",
        "outputId": "3da29d6a-39bc-4c17-86d2-cbf7c1f4b02d"
      },
      "execution_count": null,
      "outputs": [
        {
          "output_type": "execute_result",
          "data": {
            "text/plain": [
              "                                            Statement  Positive/Negative\n",
              "0   සාමාන්‍යයෙන් පෞද්ගලික චරිත ගැන ලියන්න හොද  නෑ....                  1\n",
              "1   මම නුවරඑළියේ ඉදන් කොළඹට ඇවිල්ලා ගායකයෙක් වෙන්න...                  1\n",
              "2   Ego system Vs. Eco system \\n\\nසාමාන්‍යයෙන් ලංක...                  1\n",
              "3   අද උදේ දැකපු සුන්දර දර්ශණයක්. නුගේගොඩ St.Johns...                  1\n",
              "4   Smoking is a bad habit \\nMenda , Danee🏏✌.\\nCri...                  1\n",
              "..                                                ...                ...\n",
              "94  2022 බුකර් සම්මානය ලත් විශිෂ්ටතම කෘතිය  ශෙහාන්...                  1\n",
              "95  ක්‍රිකටර්ස්ලත්  මිනිස්සු...සාමාන්‍යයෙන් පෞද්ගල...                  1\n",
              "96  අද gaming/Streaming field එකේ ඉන්න අපේ තරුණ කෙ...                  1\n",
              "97  ක්‍රමිකව ප්‍රාථමික අධ්‍යාපනයේ සිට සහා ගුරු පුහ...                  0\n",
              "98  සයිබර් අපරාධ දෙකේ කොලේට දාලා කතාකරන පණ්ඩිත දාර...                  0\n",
              "\n",
              "[99 rows x 2 columns]"
            ],
            "text/html": [
              "\n",
              "  <div id=\"df-674a8c4a-7013-4bd2-93d5-b41672bda3d7\">\n",
              "    <div class=\"colab-df-container\">\n",
              "      <div>\n",
              "<style scoped>\n",
              "    .dataframe tbody tr th:only-of-type {\n",
              "        vertical-align: middle;\n",
              "    }\n",
              "\n",
              "    .dataframe tbody tr th {\n",
              "        vertical-align: top;\n",
              "    }\n",
              "\n",
              "    .dataframe thead th {\n",
              "        text-align: right;\n",
              "    }\n",
              "</style>\n",
              "<table border=\"1\" class=\"dataframe\">\n",
              "  <thead>\n",
              "    <tr style=\"text-align: right;\">\n",
              "      <th></th>\n",
              "      <th>Statement</th>\n",
              "      <th>Positive/Negative</th>\n",
              "    </tr>\n",
              "  </thead>\n",
              "  <tbody>\n",
              "    <tr>\n",
              "      <th>0</th>\n",
              "      <td>සාමාන්‍යයෙන් පෞද්ගලික චරිත ගැන ලියන්න හොද  නෑ....</td>\n",
              "      <td>1</td>\n",
              "    </tr>\n",
              "    <tr>\n",
              "      <th>1</th>\n",
              "      <td>මම නුවරඑළියේ ඉදන් කොළඹට ඇවිල්ලා ගායකයෙක් වෙන්න...</td>\n",
              "      <td>1</td>\n",
              "    </tr>\n",
              "    <tr>\n",
              "      <th>2</th>\n",
              "      <td>Ego system Vs. Eco system \\n\\nසාමාන්‍යයෙන් ලංක...</td>\n",
              "      <td>1</td>\n",
              "    </tr>\n",
              "    <tr>\n",
              "      <th>3</th>\n",
              "      <td>අද උදේ දැකපු සුන්දර දර්ශණයක්. නුගේගොඩ St.Johns...</td>\n",
              "      <td>1</td>\n",
              "    </tr>\n",
              "    <tr>\n",
              "      <th>4</th>\n",
              "      <td>Smoking is a bad habit \\nMenda , Danee🏏✌.\\nCri...</td>\n",
              "      <td>1</td>\n",
              "    </tr>\n",
              "    <tr>\n",
              "      <th>...</th>\n",
              "      <td>...</td>\n",
              "      <td>...</td>\n",
              "    </tr>\n",
              "    <tr>\n",
              "      <th>94</th>\n",
              "      <td>2022 බුකර් සම්මානය ලත් විශිෂ්ටතම කෘතිය  ශෙහාන්...</td>\n",
              "      <td>1</td>\n",
              "    </tr>\n",
              "    <tr>\n",
              "      <th>95</th>\n",
              "      <td>ක්‍රිකටර්ස්ලත්  මිනිස්සු...සාමාන්‍යයෙන් පෞද්ගල...</td>\n",
              "      <td>1</td>\n",
              "    </tr>\n",
              "    <tr>\n",
              "      <th>96</th>\n",
              "      <td>අද gaming/Streaming field එකේ ඉන්න අපේ තරුණ කෙ...</td>\n",
              "      <td>1</td>\n",
              "    </tr>\n",
              "    <tr>\n",
              "      <th>97</th>\n",
              "      <td>ක්‍රමිකව ප්‍රාථමික අධ්‍යාපනයේ සිට සහා ගුරු පුහ...</td>\n",
              "      <td>0</td>\n",
              "    </tr>\n",
              "    <tr>\n",
              "      <th>98</th>\n",
              "      <td>සයිබර් අපරාධ දෙකේ කොලේට දාලා කතාකරන පණ්ඩිත දාර...</td>\n",
              "      <td>0</td>\n",
              "    </tr>\n",
              "  </tbody>\n",
              "</table>\n",
              "<p>99 rows × 2 columns</p>\n",
              "</div>\n",
              "      <button class=\"colab-df-convert\" onclick=\"convertToInteractive('df-674a8c4a-7013-4bd2-93d5-b41672bda3d7')\"\n",
              "              title=\"Convert this dataframe to an interactive table.\"\n",
              "              style=\"display:none;\">\n",
              "        \n",
              "  <svg xmlns=\"http://www.w3.org/2000/svg\" height=\"24px\"viewBox=\"0 0 24 24\"\n",
              "       width=\"24px\">\n",
              "    <path d=\"M0 0h24v24H0V0z\" fill=\"none\"/>\n",
              "    <path d=\"M18.56 5.44l.94 2.06.94-2.06 2.06-.94-2.06-.94-.94-2.06-.94 2.06-2.06.94zm-11 1L8.5 8.5l.94-2.06 2.06-.94-2.06-.94L8.5 2.5l-.94 2.06-2.06.94zm10 10l.94 2.06.94-2.06 2.06-.94-2.06-.94-.94-2.06-.94 2.06-2.06.94z\"/><path d=\"M17.41 7.96l-1.37-1.37c-.4-.4-.92-.59-1.43-.59-.52 0-1.04.2-1.43.59L10.3 9.45l-7.72 7.72c-.78.78-.78 2.05 0 2.83L4 21.41c.39.39.9.59 1.41.59.51 0 1.02-.2 1.41-.59l7.78-7.78 2.81-2.81c.8-.78.8-2.07 0-2.86zM5.41 20L4 18.59l7.72-7.72 1.47 1.35L5.41 20z\"/>\n",
              "  </svg>\n",
              "      </button>\n",
              "      \n",
              "  <style>\n",
              "    .colab-df-container {\n",
              "      display:flex;\n",
              "      flex-wrap:wrap;\n",
              "      gap: 12px;\n",
              "    }\n",
              "\n",
              "    .colab-df-convert {\n",
              "      background-color: #E8F0FE;\n",
              "      border: none;\n",
              "      border-radius: 50%;\n",
              "      cursor: pointer;\n",
              "      display: none;\n",
              "      fill: #1967D2;\n",
              "      height: 32px;\n",
              "      padding: 0 0 0 0;\n",
              "      width: 32px;\n",
              "    }\n",
              "\n",
              "    .colab-df-convert:hover {\n",
              "      background-color: #E2EBFA;\n",
              "      box-shadow: 0px 1px 2px rgba(60, 64, 67, 0.3), 0px 1px 3px 1px rgba(60, 64, 67, 0.15);\n",
              "      fill: #174EA6;\n",
              "    }\n",
              "\n",
              "    [theme=dark] .colab-df-convert {\n",
              "      background-color: #3B4455;\n",
              "      fill: #D2E3FC;\n",
              "    }\n",
              "\n",
              "    [theme=dark] .colab-df-convert:hover {\n",
              "      background-color: #434B5C;\n",
              "      box-shadow: 0px 1px 3px 1px rgba(0, 0, 0, 0.15);\n",
              "      filter: drop-shadow(0px 1px 2px rgba(0, 0, 0, 0.3));\n",
              "      fill: #FFFFFF;\n",
              "    }\n",
              "  </style>\n",
              "\n",
              "      <script>\n",
              "        const buttonEl =\n",
              "          document.querySelector('#df-674a8c4a-7013-4bd2-93d5-b41672bda3d7 button.colab-df-convert');\n",
              "        buttonEl.style.display =\n",
              "          google.colab.kernel.accessAllowed ? 'block' : 'none';\n",
              "\n",
              "        async function convertToInteractive(key) {\n",
              "          const element = document.querySelector('#df-674a8c4a-7013-4bd2-93d5-b41672bda3d7');\n",
              "          const dataTable =\n",
              "            await google.colab.kernel.invokeFunction('convertToInteractive',\n",
              "                                                     [key], {});\n",
              "          if (!dataTable) return;\n",
              "\n",
              "          const docLinkHtml = 'Like what you see? Visit the ' +\n",
              "            '<a target=\"_blank\" href=https://colab.research.google.com/notebooks/data_table.ipynb>data table notebook</a>'\n",
              "            + ' to learn more about interactive tables.';\n",
              "          element.innerHTML = '';\n",
              "          dataTable['output_type'] = 'display_data';\n",
              "          await google.colab.output.renderOutput(dataTable, element);\n",
              "          const docLink = document.createElement('div');\n",
              "          docLink.innerHTML = docLinkHtml;\n",
              "          element.appendChild(docLink);\n",
              "        }\n",
              "      </script>\n",
              "    </div>\n",
              "  </div>\n",
              "  "
            ]
          },
          "metadata": {},
          "execution_count": 343
        }
      ]
    },
    {
      "cell_type": "markdown",
      "source": [
        "add to data frame statement to x variable"
      ],
      "metadata": {
        "id": "warObthDzAo7"
      }
    },
    {
      "cell_type": "code",
      "source": [
        "x = df['Statement']"
      ],
      "metadata": {
        "id": "xPty1jZEYIv0"
      },
      "execution_count": null,
      "outputs": []
    },
    {
      "cell_type": "code",
      "source": [
        "x"
      ],
      "metadata": {
        "colab": {
          "base_uri": "https://localhost:8080/"
        },
        "id": "zVAxbhSWj_ZB",
        "outputId": "ef52e04b-fa46-4315-f7ef-744f35fca8d6"
      },
      "execution_count": null,
      "outputs": [
        {
          "output_type": "execute_result",
          "data": {
            "text/plain": [
              "0     සාමාන්‍යයෙන් පෞද්ගලික චරිත ගැන ලියන්න හොද  නෑ....\n",
              "1     මම නුවරඑළියේ ඉදන් කොළඹට ඇවිල්ලා ගායකයෙක් වෙන්න...\n",
              "2     Ego system Vs. Eco system \\n\\nසාමාන්‍යයෙන් ලංක...\n",
              "3     අද උදේ දැකපු සුන්දර දර්ශණයක්. නුගේගොඩ St.Johns...\n",
              "4     Smoking is a bad habit \\nMenda , Danee🏏✌.\\nCri...\n",
              "                            ...                        \n",
              "94    2022 බුකර් සම්මානය ලත් විශිෂ්ටතම කෘතිය  ශෙහාන්...\n",
              "95    ක්‍රිකටර්ස්ලත්  මිනිස්සු...සාමාන්‍යයෙන් පෞද්ගල...\n",
              "96    අද gaming/Streaming field එකේ ඉන්න අපේ තරුණ කෙ...\n",
              "97    ක්‍රමිකව ප්‍රාථමික අධ්‍යාපනයේ සිට සහා ගුරු පුහ...\n",
              "98    සයිබර් අපරාධ දෙකේ කොලේට දාලා කතාකරන පණ්ඩිත දාර...\n",
              "Name: Statement, Length: 99, dtype: object"
            ]
          },
          "metadata": {},
          "execution_count": 345
        }
      ]
    },
    {
      "cell_type": "markdown",
      "source": [
        "install google translate"
      ],
      "metadata": {
        "id": "oCRrkpWzv7JK"
      }
    },
    {
      "cell_type": "code",
      "source": [
        "!pip install googletrans==4.0.0-rc1"
      ],
      "metadata": {
        "colab": {
          "base_uri": "https://localhost:8080/"
        },
        "id": "N2qNbq8ZG6Nc",
        "outputId": "48d80daf-52de-44b2-acdf-c39d7381866d"
      },
      "execution_count": null,
      "outputs": [
        {
          "output_type": "stream",
          "name": "stdout",
          "text": [
            "Looking in indexes: https://pypi.org/simple, https://us-python.pkg.dev/colab-wheels/public/simple/\n",
            "Requirement already satisfied: googletrans==4.0.0-rc1 in /usr/local/lib/python3.7/dist-packages (4.0.0rc1)\n",
            "Requirement already satisfied: httpx==0.13.3 in /usr/local/lib/python3.7/dist-packages (from googletrans==4.0.0-rc1) (0.13.3)\n",
            "Requirement already satisfied: rfc3986<2,>=1.3 in /usr/local/lib/python3.7/dist-packages (from httpx==0.13.3->googletrans==4.0.0-rc1) (1.5.0)\n",
            "Requirement already satisfied: sniffio in /usr/local/lib/python3.7/dist-packages (from httpx==0.13.3->googletrans==4.0.0-rc1) (1.3.0)\n",
            "Requirement already satisfied: httpcore==0.9.* in /usr/local/lib/python3.7/dist-packages (from httpx==0.13.3->googletrans==4.0.0-rc1) (0.9.1)\n",
            "Requirement already satisfied: chardet==3.* in /usr/local/lib/python3.7/dist-packages (from httpx==0.13.3->googletrans==4.0.0-rc1) (3.0.4)\n",
            "Requirement already satisfied: idna==2.* in /usr/local/lib/python3.7/dist-packages (from httpx==0.13.3->googletrans==4.0.0-rc1) (2.10)\n",
            "Requirement already satisfied: certifi in /usr/local/lib/python3.7/dist-packages (from httpx==0.13.3->googletrans==4.0.0-rc1) (2022.9.24)\n",
            "Requirement already satisfied: hstspreload in /usr/local/lib/python3.7/dist-packages (from httpx==0.13.3->googletrans==4.0.0-rc1) (2022.11.1)\n",
            "Requirement already satisfied: h11<0.10,>=0.8 in /usr/local/lib/python3.7/dist-packages (from httpcore==0.9.*->httpx==0.13.3->googletrans==4.0.0-rc1) (0.9.0)\n",
            "Requirement already satisfied: h2==3.* in /usr/local/lib/python3.7/dist-packages (from httpcore==0.9.*->httpx==0.13.3->googletrans==4.0.0-rc1) (3.2.0)\n",
            "Requirement already satisfied: hpack<4,>=3.0 in /usr/local/lib/python3.7/dist-packages (from h2==3.*->httpcore==0.9.*->httpx==0.13.3->googletrans==4.0.0-rc1) (3.0.0)\n",
            "Requirement already satisfied: hyperframe<6,>=5.2.0 in /usr/local/lib/python3.7/dist-packages (from h2==3.*->httpcore==0.9.*->httpx==0.13.3->googletrans==4.0.0-rc1) (5.2.0)\n"
          ]
        }
      ]
    },
    {
      "cell_type": "markdown",
      "source": [
        "import google translate"
      ],
      "metadata": {
        "id": "n7og8MnFv-2r"
      }
    },
    {
      "cell_type": "code",
      "source": [
        "import googletrans\n",
        "from googletrans import Translator"
      ],
      "metadata": {
        "id": "5XF4MeXCHGAx"
      },
      "execution_count": null,
      "outputs": []
    },
    {
      "cell_type": "code",
      "source": [
        "# Create translation model\n",
        "translator = Translator()"
      ],
      "metadata": {
        "id": "StnaiRmOHOL0"
      },
      "execution_count": null,
      "outputs": []
    },
    {
      "cell_type": "markdown",
      "source": [
        "translated from sinhala to english"
      ],
      "metadata": {
        "id": "dCzqIYSUwFKT"
      }
    },
    {
      "cell_type": "code",
      "source": [
        "for i in range(len(x)):\n",
        "  translation = translator.translate(x[i],dest=\"en\")\n",
        "  x[i] = translation.text\n",
        "  print('statement', i , ':', x[i])"
      ],
      "metadata": {
        "colab": {
          "base_uri": "https://localhost:8080/"
        },
        "id": "XKkiysTvYk1z",
        "outputId": "414d8f91-add7-4d44-fca2-e41fe36d04c5"
      },
      "execution_count": null,
      "outputs": [
        {
          "output_type": "stream",
          "name": "stderr",
          "text": [
            "/usr/local/lib/python3.7/dist-packages/ipykernel_launcher.py:3: SettingWithCopyWarning: \n",
            "A value is trying to be set on a copy of a slice from a DataFrame\n",
            "\n",
            "See the caveats in the documentation: https://pandas.pydata.org/pandas-docs/stable/user_guide/indexing.html#returning-a-view-versus-a-copy\n",
            "  This is separate from the ipykernel package so we can avoid doing imports until\n"
          ]
        },
        {
          "output_type": "stream",
          "name": "stdout",
          "text": [
            "statement 0 : We do not usually write about personal characters. There is no matter what it is like.\n",
            "\n",
            "The Team in Sri Lanka..We want Sri Lanka.\n",
            "From Sri Lanka, we are hembiriissa ... 😊\n",
            "\n",
            "Crictorslah people!\n",
            "\n",
            "Bring lions bring the cup ..\n",
            "statement 1 : I am from Nuwara Eliya and trying to be a singer. Roshan Fernando brother is a legend of the music music, which has many years of experience in the music industry. For the first time, Flash Back Back to the Practice.\n",
            "\n",
            "It is fortty fortunate to have a loving-acceptance and meetings.\n",
            "\n",
            "They are all beautiful people.\n",
            "Let us share us on the stage ... let's down\n",
            "statement 2 : EGO System vs. Eco system\n",
            "\n",
            "Generally, people in Sri Lanka have used to work together with the Ego System. There is one who is the leader. The leader knows everything. The leader commands others. Says things to be. The leader wants to hear, and tell the leader's rejoice. Everyone has their own parts. They have power struggles to protect these parts. People cling to those power struggles, and what to mankind the time.\n",
            "\n",
            "The Liberal Democratic Movement is not based on ECO System, not on EGO System.\n",
            "\n",
            "Only friends in an ECO System. We learn from the one. Communication with each other. Knowledge is shared. I propose what you can do. They accept the responsibility. Others are honestly expressed their views. They are responsible for themselves. Helps each other. Feeds each other. Therefore, whatever work, it is rich in herself.\n",
            "\n",
            "Connected with this liberal democratic movement (LDM)\n",
            "A discussion with a group of IT professionals.\n",
            "\n",
            "We will build a country running on Eco System, not on EGO System\n",
            "\n",
            "#srilanka #Life\n",
            "statement 3 : A beautiful display that was seen this morning.Nugegoda st.joshns college\n",
            "When we learned at the bhathkande university of India in India\n",
            "Our teacher students enter university into university\n",
            "I saw the same from the Nugegoda St, Johnns\n",
            "All student capabilities - win\n",
            "statement 4 : Smooking is a bad habit\n",
            "Menda, dane🏏✌.\n",
            "Cricket lovely cricket cricket cricket is 150+\n",
            "statement 5 : If you were able to buy a jeep, which was not the first vehicle, which was not the first vehicle that was not working in 1996, he was able to buy a jeep, who had no sensooooo, without SAFETY AIRBAGA, no Sensors, no Sensors, who had not worked in 1996. All the elephants are well today.\n",
            "\n",
            "If the Sinhabahu manufacturing team has gone to the crash, if the crash is inaugurated, the manufacturer cannot be able to get the crash to Colombo eight eighth eight hours, and the aircraft will not be able to get the crash to Colombo.\n",
            "\n",
            "The injured that we were injured for them.\n",
            "Such is the key to \"even if the hardest is\" true, \"love,\" no matter how love \"\n",
            "With a heart, word and action ...\n",
            "\n",
            "If you can't be single, how good is the less ... 😔\n",
            "statement 6 : Life is meeting people of one nation. Some people go pre-love. Some do the future strong. Some walk around their life. Some people get you in your own. Others make you in a cage in a cage.\n",
            "But if you patiently come, you'll be a day, you can be a person who loves you with your whole world, and so lovely. Whatever the problem, you can find a close eye with you, as a strength, toxic relationips. There is a pushing and pushing for yourself. If you already get that one, you get that one, when it is the first love.\n",
            "But so late, he's giving you a good one day. Take care of that love. Perhaps it and you can be a prestacle. Otherwise, he can come to make your whole world beautiful.\n",
            "That's how the bound it would be to catch the eyes and catch the eyes.\n",
            "statement 7 : The equipment ...\n",
            "Why didn't we only ...\n",
            "I think about this in life. I always think .. ... A great lack of man ... how was that shortly ...\n",
            "Where's the bottom ...\n",
            "The Lifestyle is ..\n",
            "The classes have no lectures that have been changed to change a livestyle.\n",
            "That's the space needed ... to create the SPACE ...\n",
            "Continue to socialize the necessary equipment to change ...\n",
            "We didn't do that.\n",
            "There were no people learned to do.\n",
            "The equipment was not in empty space.\n",
            "It's not about a person ...\n",
            "It will take place in parallel to ...\n",
            "That is why you see a ugly mismatch throughout this society.\n",
            "They use advanced equipment ... one. A man ... an acquaintance ...\n",
            "struggle..\n",
            "Many youths who have boiled into the struggle ... because of the new equipment coming into the new equipment ...\n",
            "But...\n",
            "They are not allowed to change the full-life philosophy.\n",
            "Because of the control of the country's control of the country ...\n",
            "A rural masses have not been in political power ...\n",
            "It's only one thing to say.\n",
            "We're in a patt\n",
            "\n",
            "One of the Lifestyle Change of this society is compulsory\n",
            "\n",
            "It requires the required compaction.\n",
            "By new equipment\n",
            "This unwilling dent is separated into human lives.\n",
            "People are in practice.\n",
            "That you want to smash this.\n",
            "I believe\n",
            "Lifestyle should be a workshop for a change ....\n",
            "LET'S RDESIGN OUR MOTHERDAND\n",
            "statement 8 : In fact, the government should have introduced a good Wealth Tax system in other parts of other countries before the increase in income tax.\n",
            "\n",
            "Instead of getting taxes more taxes, more and more taxes should be paid to taxes taxes tax. The Wealth Tax is more likely to track taxes in taxes at present.\n",
            "\n",
            "Most paying taxes in Sri Lanka are not just in the country. Buys the property. Get the pricing of the yawna. Buying homes and apartment. Buying them should currently be taxed at present for the high value property. Only nominal taxes are available in Sri Lanka. The taxes for this property can currently be increased with more significant amount. Similarly wealth tax system, the middle income earner that brings a balanced, the middle-income medium-in-law, can be protected as much as possible. It can increase tax revenue.\n",
            "\n",
            "However, no one in Sri Lanka's laws will not even think about the Wealth Tax. Because of the reason why many policy makers are largely reluctant to pay for it. So we believe that these challenges can be overcome to a new group with a clear vision and solutions that can make decisions and solutions that may not be overcome. Fairy tales cannot solve any of these issues.\n",
            "\n",
            "Concurrently, public confidence must be confirmed by the tax system by introducing a wide plan of reducing government spending reduction.\n",
            "\n",
            "The solutions for the tax system have been widely discussed in this dialogue of the LDM yesterday. Capital and financial market experts and financial and management expert Prasanthawala and Prasanantha Abeykoon attended speaker.\n",
            "\n",
            "#srilanka #Life\n",
            "statement 9 : Children should be forwards - here is an alcoholic diamond for the border!\n",
            "\n",
            "A child is sides and listen to the mouth and listens to others and do what others need to be a society.\n",
            "\n",
            "\"Children 'securities vessels was over,\" the whole hallway was silenced and had been silenced. Just like breathing. A voice voice is spoken to \"tell us\" and shouted us. Everyone breathed one time. This son reviewed the video in several words, surprising me.\n",
            "\n",
            "It was five years old, this Podda spoke without any hesitation. Very cute. A child without the tin is in creative, creative, unique ... on any platform, to enforce children with any stage. The children of the 21st century scared, hiding, hiding, capture.\n",
            "\n",
            "Shoulder catch unsafe / bad touch - Winter the chance if you meet a child!\n",
            "\n",
            "# 225 Maoon #NO beat #n'tadard\n",
            "statement 10 : Hela Pay For Business\n",
            "The IOS app has now been directed for Apple APPPRUMal.Approve will be informed at the time.\n",
            "statement 11 : Take all the functions of the life and you say about a parachute journey that jumps down from a mountain. Sri Lanka's tourists commenced for the first time On topic with Hasitha Wijewardena Watch On YouTube httSt://youtu.be/xDBDlpSu3yi\n",
            "Paraglidin, which began to take adventure sports, is the newly expanded Paraglidin. In this sports, a person who is unvaring not afraid to look down on the floor, a bird can be floated in the sky, in Kandy and Kurunegala. When you condem pilot, we have only to force us to control. One ride is Rs.\n",
            "You can go with the first time in Sri Lanka in Sri Lanka, connecting Ajanthy Bandara brother, Ajantha Bandara, and by the FB Page.\n",
            "Direction - yuwawaraj athukoralaloala\n",
            "                    Darshana eranga\n",
            "Camara - dinesh kaluarachchi\n",
            "                  Sudesh dhammika thilakasiri\n",
            "                 Lahiru chamara\n",
            "DRONE - ISURU mudiyanse\n",
            "Web - naveen eranga\n",
            "Special Thanks to - Chandana Ekanayake mullegama\n",
            "statement 12 : A place where I went to the city to go to shooting, ❤️\n",
            "I wanted to shooting some more clothes.\n",
            "This is the best place to get you and the beautiful you go to the city of in Kandy.\n",
            "MBK, CASUAL RANGE and the Active range was the most.You have gone to KANDY NOLIMIT.\n",
            "#NOLIMIT #NOLIMITKANDY #FASSIONSRILANKA\n",
            "Nolimit sri lanka\n",
            "statement 13 : We could bring laughter to these beautiful innocent face.The 96 children who are studying at the primary school in the primary school in the Primary School in general and the primary school we have been able to provide school equipment and reminded us of helping that the sacrifice of friends.Thank you for everyone to help everyone like this to help people innocent small children like this!❤️\n",
            "statement 14 : I will join the players for players, including the Sri Lanka Cricket Tournament, which will commence tomorrow.\n",
            "#asiacup\n",
            "statement 15 : It is a religion to cricket. A game for some people. Yet, some people are like life. Rudi Koertzen, my friend and cricket played their lives, and a sports judge. Unfortunately he retired from life's trip. But I saw several posts and comgrams that would blazed him through social media covers. As a judge who loves the game, some Sri Lankan audience caused some of the biggest. Many decisions in cricket can be accurate and incurs. Therefore, we look for love to avoid advertising, whether my friend Kortzen or anyone else, or anyone else.\n",
            "For MANY PEOPLE, CRICKET IS Just A Sport, and For SOME Cricket Isaian WAS AREETZEN WHO WAS AREENDE AND A DEAR Friend & For Mine. Unfortuntely he passed away away recerdially retriened and may hebst in Peace.\n",
            "Today, I saw a few posts and comments criticiz criticiz criticiz criticiz criticiz criticiz criticizing koertzen in a very negative. This WAS TRULY A DISAPPOINTMENT FORE ME. And IT SADDENS ME AS A FELLOW UMPIRE, TO SEE SOME OF OUR FANS TALKING ABOUT W.O DIDN'T DOE .O. In cricket, not easy decision will be 100% accurate. But tat doesn't GiveT Give The Rightt To Talk Down On Him, Especially WHEN HE HAS PASSED AWAY. Insteaad, As Cricket Fans, We Dedication and Commitness Towards cricket. IT is my Kind Request to Anyone WHO Share Such Content To Think Again, You Have The Right Decision.\n",
            "statement 16 : Wetrout OBSESSION, LIFE IS NOTHING. ROSI MAM SAID SAID SAID SAID SAID SAVERYING STE CAN TO STE CAN EVENT. Bay leagalley she canner dow. SO HOW CAN SOMETHING FOR THE PEOPLE UNLESS HER BORN PAST TELL HEAT TO DO?\n",
            "Even the children of Ahinzi, you are on the Protest Karanna Highway. The country had this country from Arabah since the festival. I'm trying to forget the end of one and the internional festival exerment. ❤️\n",
            "You need the need to me than ever before. They do this to reduce the people coming to BUT to the Have to remember some.\n",
            "WE ALL ARE BALL LANKS .. 🤣\n",
            "statement 17 : Stop hunting pilots in the struggle !!\n",
            "If a person is arrested based on a live Video, the video of Vidyan, Vidrasses, said that there should be plenty of murder. First, they should be arrested.\n",
            "Despite the demarketing places, the struggle appeared unconditionally to the struggle for social justice until justice is fulfilled for Social Justice Pathum Kerner!\n",
            "Initial arrests, struggle to suppress the struggle !!\n",
            "#releasepatumkerner\n",
            "statement 18 : We look forward to a country until he is so proud around the shepherd ...He's healing.\n",
            "statement 19 : ⚠️READ BEFORE 😅⚠️TOP 100 A lot of people had to write that it was not to put the EMF in the (DJMAG). Dj magg is artists marketing and ptingy. The company later started promote festivals.\n",
            "Top 50 comes if you can get a lot. So, like a hardware like a Hardwell, DAVID guetta, go to the Industry NAME, but to go for it. But when the company started, they were actually given to the people who had really tallent + fame. But you haven't gone now and see the dj magg and looked at the DJ Magag. 50 l% of 50 L. IT'S ALL ABOUT HOW MUCH YOUE SPEND.\n",
            "So in their arteist management company, Agency Artists' Ratings is too much of the commission. ArtistsS Managers Laughing this as ... puts their artiststs\n",
            "Since the paper is not paid, but if no (multiple) or not notice. This Top 100 per one world forest, USA, South Amaraica, is considered in Australia, in Asian Counties. Even if a song is not heard, it's been tops\n",
            "And that is the topp 100 festivals so I'm getting a artists from that grave better than that. 🤣🙏🏻 and EMF IS STILL A SMALL BRAND. Maybe in Few in Few Yen Were To Dubai, Australia (WHEN WE ABLE TO SPLEAS THUS ON Marketing 😇) 😬) 😬\n",
            "statement 20 : Hemal Ranasinghe's latest film was launching songs in the film SHOW.\n",
            "India and Sri Lanka have created together\n",
            "Silarver Screen Super Star Hemal, who is happy to take Sri Lankan cinemas and excellence through the film Second Show, bring Sri Lankan cinemas and excellence to the world.\n",
            "Cinema between the country's struggles and a long-term struggle to the film Second Show to go through the World Cinema through World Cinema at the moment of a crisis.\n",
            "We can see this Film this Film in both Sinhala and Tamil languages. Direct.\n",
            "A t gnanam\n",
            "Hemal Ranasinghe &\n",
            "PALLAVI Subhash All The Best 😘\n",
            "Hemal sachindra ranasinghe\n",
            "Sri mal\n",
            "MALKZ WIJE\n",
            "Aseka wijewardena\n",
            "Photographer 📸\n",
            "Hasitha N Nilu 🌹😘😘\n",
            "statement 21 : #Le Pay 🇱🇰✊ VS Card Payments!\n",
            "Among the world's cash payment methodologies have come forward, such as Applepache and Alipay, out of the world's financial payments.\n",
            "Although we have been introduced to Helpay, that we cannot be able to do so, you have believed to be able to do if it is unable to do so. It also ensures foreign exchange to the country.\n",
            "If we were able to change this, there would be no reason to be unable. It is all about to enter this change, believing that this is possible.\n",
            "For that purpose, you will update Hela Pay Profile to provide you with a simple and secure innovative digital payment experience such as Applepache and Alipay.\n",
            "# \"Soon 'next change # 💪❤️\n",
            "statement 22 : The film Brahmasts thought to make a cover to the song.Rs\n",
            "Heres a Little Cover Rendition of \"Ksariya,\" i DIMRAAW_OFFF's music arrangecent & @ Sitiful Video Skills.\n",
            "@iprithatt @ipritamafficial @ayan_mukerji\n",
            "statement 23 : This is a friend who worked with me in the first JOB. Life has not been able to win the hope of winning life from dread and win life. Happy is still a friendly entrepreneur who has worked together with a friend who has worked together with a simple friend. But you're ready to share all of them. He tells you how to make the dollars easy to make a job. Make subscribe to his YouTube Channel. I've placed the FB Link in Nudasun, if there was anything you wanted to hear from him\n",
            "statement 24 : Put the country together.Transser as one, Let's RallyROUND OUR LIONS.Our pride.\n",
            "statement 25 : LOL 😂 The journalist who had been to piumi hansamali to the piumi hansamali of this man, it was not one commet to get a big brother in Sri Lanka and went to the FUN COMMENTS Read\n",
            "Thinking, it will be a journalist who doesn't matter to the wakkadu that you have in Wakkaduwa. Read more about the newspaper, you'll see what happened to the pimi hangamali. Chamuditha Samarawickra🤮, Chamuditha Samarawickra🤮\n",
            "statement 26 : Rosy Senanayake threatened to stop HellFire Music Festival ☎️🚨\n",
            "Hello, Sri Lanka\n",
            "Hellfire Music Festival has created a controversial speech in Sri Lanka. Because we use the name we use. This is the demonic faith and the story of Satan. At first, we didn't care. But when we were unexpected, it came to tell you the CAS not joke. Not even of this, Colombo Mayor of Colombo is from Rosy Senanayake. I was amazed, she listened to this view. How did Satan really believe that Satan was this International Music Festival, which we are doing this to do this toppin world?\n",
            "Halloween Theme is not unfamiliar to Sri Lanka, not strange to other countries in the world. Another thing is that theme is one of the theme, then there is a problem.\n",
            "statement 27 : If not go home, people will not send dollars if he doesn't go home, but can we have two more years to survive?WE NEED SOLUTION NOW - (keyboard heros Watch the Full Video Beforeo Befoee Befomenta\n",
            "statement 28 : The distortion of politicians' distorted VIP behavior (naming and shaming) and the resistance of the streets can be a good start.\n",
            "statement 29 : IMF crocodile tears -\n",
            "Keep in talks with a group of protesters, but the IMF representatives prepare for the IMF demonstrations.\n",
            "Without blocking the gates in the night, nothing was doing this morning, load the IMF on the unrest.\n",
            "If you hinder a discussion like this, you don't have a Constantency Pan, saying, Nande-Ranil is.\n",
            "statement 30 : I Challenge Dasun Shanaka, Bhanuka rajapaksa and chamika karunaranetne to beat me\n",
            "I Want You Guys Not Only To Beat Me But Hit Many More Sixes In the T20 World CUP\n",
            "\n",
            "It's okay, but don't lose battle\n",
            "statement 31 : HAVING A HOLPY HELPS FOR BETTER MENTAL HEALTH.Amidst All the Work StressT I HAD TOD I HAD TO GO I HAD TO GO THAT, THESE FISH ME COMPANY.\n",
            "\n",
            "What is your HOBBY?\n",
            "\n",
            "Having a hobby helps with a better mental health.\n",
            "In the middle of all the work I have, the fish have been talked to keep my mental health very high\n",
            "\n",
            "What is the hobby you spend most of the time?\n",
            "statement 32 : All thanks to everyone who loves me very much to subscribe.Here's the Link to see beautiful things\n",
            "statement 33 : I tried to write to you this article about a news spreading news of the rapidly spreading through social media these days. I and all my family, the Alliance, and all my family have spreads to various stories and social media. However, I was only a quarantine for 21 days after the course of all the covid 19 runs, the situation has been improved. And I would like to inform you that no one in my family has been diagnosed with Covid 19. We are responsible for the world to avoid such false propaganda, avoiding such false propaganda. Today, I can be, tomorrow you can live with good health habits. It will help save a life of another and another.\n",
            "\n",
            "Stop Spreading False for the Love of GOD!\n",
            "\n",
            "\"STAY SAFE, COVID IS NO JOKE\"\n",
            "statement 34 : DUET WITH ME !!!!Share this difficult part of my \"dags\" song with me! Play gifts ...\n",
            "WHO WANTS TO HANG \"haadakam\"? ... WHO IS UP FOR A CHALLENGE?\n",
            "Share Your Version of This Adlig Us Me And Win Prizes ....\n",
            "statement 35 : Suddenly, I don't know that I have not been able to spend 50 lakhs and diaspora trap that I am not aware of the CIMA Qualified Accountant and that I am not a CIMA Qualified Accountant!\n",
            "\n",
            "What is the most embled of the struggle so far, and none of the benefits obtained by personal! We have ever taken measures to suppress so far, and you have to be unemployed in front of the mudcalenery. Because of clennel.\n",
            "\n",
            "The five million people who fell on my appointment in today's humiliation have already been forwarded to Sampath Bank and hope to take legal action tomorrow morning 😁\n",
            "statement 36 : \"Nothing else can work within another law in the country.\"\n",
            "\n",
            "Property Damage and Other Incidants That TAKE Place Place Place\n",
            "statement 37 : Recently, I was circulated by a statement filed. The technical investigation was confirmed by the technical investigation. In Sri Lanka, we had a large decrease in a method of confirming the accuracy of information in the Social Media circulating information.\n",
            "statement 38 : Sinhalest at Sinhala cinema is released tomorrow, don't go to the mouth of the mouth.Not thief\n",
            "You suffer in\n",
            "statement 39 : Ceylon Tea everyone knows this sadness only those who suffered this sadness.\n",
            "statement 40 : View the SUPRISE GIFT that is given to the division Vide Video See the VIDEO\n",
            "statement 41 : This is an advertising agency.Trend to set your brand to the tren, make your brand one hit in Social Media Platforms triB ads we will read.\n",
            "statement 42 : Young entrepreneur who solved all the tickets online system by 48 hours\n",
            "statement 43 : Share and land boy.Maru music video\n",
            "statement 44 : Thank You New Join YouTu Duutube Premium Members of 2000\n",
            "statement 45 : Share this message in the village of the village of the village / city of the city.\n",
            "Come on to put this in the provinces. Don't know.\n",
            "statement 46 : My schoolmine is a metnow Methodist College a slip of Kollupitiya front in a metaphistha tree front, this post's Geographical knowledge is sad.\n",
            "statement 47 : Talk to the Nonco yolk without hanging and camouflage the mud.\n",
            "statement 48 : The greatest tragedy that was drowned in the country's entrepreneurial culture.Often this is where the racketeers or manipulators are taking the place.\n",
            "statement 49 : But I saw several posts and comgrams that would blazed him through social media covers.\n",
            "statement 50 : We are ready to bring the Asian Trophy to Sri Lanka and return to Cricket Spring\n",
            "statement 51 : Strengthen our lions in the Asian Trophy to encourage our lions.Add your greetings by logging into DLG.lk/apekollo Link.\n",
            "statement 52 : My latest songwind is getting release on the 21st.\n",
            "Here is the trailer 😊😊\n",
            "statement 53 : After 3 months, Russian Aeroflot is thankful for the Russian Assistance to start flights between Sri Lanka and Russia.\n",
            "statement 54 : My Fans always strengthened my cricket trip.That is, my most valuable Fan my father! ❤️\n",
            "statement 55 : These leaders do a business when they are eating the country.\n",
            "statement 56 : This country cannot build this country with a country where there is a tribe of the islands\n",
            "statement 57 : If a person is arrested based on a live Video, the video of Vidyan, Vidrasses, said that there should be plenty of murder.First, they should be arrested.\n",
            "statement 58 : Do not fall into this fraud, which is done with a program I have done.Replant as possible.\n",
            "statement 59 : This is a renowned reward that was banned into our #noleftism campaign.\n",
            "statement 60 : Today, the Mahinda Christmas was held at the hospital at Hotest Hospital, Maharagun Hayart, a centered at Neduni Chanchala, a group of people organized by a group of people organized by a group of people.\n",
            "statement 61 : There is nothing more people to be more afraid of the safety of children with Ticktock!Let us protect their Creativity and protect them!♥ ♥ ️🫶\n",
            "statement 62 : At the Platinum Cake Exhibition in the Polonnaruwa area last week, talk of a number of skilled cake manufacturers, was very wonderful experience.\n",
            "\n",
            "Indeed, this program is another example of women entrepreneurship and empowerment. The strength of an entrepreneur is to continue without the challenges.\n",
            "\n",
            "I will be thankful to the MIRACLES OF CAKE to invite me to this unique event.\n",
            "statement 63 : My First Award is the \"Best Emerging Activity of the Year 2019\". Thanks a lot to Raigam Telee's Awards. Thank you so much to change my performance style and giving me a new way of performance and give me a new way of performance and gave me a identity to my performance life. Also, Danishka Kirattilleke, who was whitewashed with the blacks, and whitewashed the white, pulling the Internet and whitewashed on the Internet, and the white, white and whitewalking, and whitewashed on the Internet, and whitewashed the drama, and whitewashing the drain. Walking and thankful to the audience. Thank you so much from the top chair of national television so much. 🙂🙂🙏\n",
            "statement 64 : Yupun Priyadarshana Abeykoon WORLD'S BEST TONIGHT AT WANDA DIAMOND LEAGUD LEAGUE FINAL IN ZURICH 🙌🇱🇰\n",
            "⏰ 12:19 am (SL TIME)\n",
            "Wishing Him All the best to have a great race💪\n",
            "The men, so that he is running\n",
            "statement 65 : It uses a photo of my photo, and there is a tribe of ........ This is not my phone number. If you come to you, tell you that MSG is not me. I don't know who he is. The msga was also to me, Msga. Does this come up with the wicked life. If there was any inconvenience, sorry\n",
            "statement 66 : The latest campaign 👉 Ranil blow the political appointment of Ranil. Socialians are socialized by a few Pages / profiles. You can meet more Pages / posts like this. (This is selling 5000 / =)\n",
            "\n",
            "Search a report to those who change such social opinion into the curses of those guys.\n",
            "\n",
            "If they have been in Sri Lanka, they are not in Sri Lanka or not.\n",
            "\n",
            "I don't care about your suitable / unforeseen failure. On the one hand, you have done something to do.\n",
            "statement 67 : The third inquiry is now being cited now gota go home ...\n",
            "statement 68 : So happy about yesterday. We all came to the street as Sri Lankans. I want to think that everyone is actually trying to change. That is why I came.\n",
            "  My Social Media I can use these things about these things. We are not the only artists who did photos. I have the right to put me in my social media as you.\n",
            "\n",
            "  I'm really proud of the people who had been. But in addition to these other things, I do not just like stone. Don't change your aim. The country will not change that we say anything. Stay focussed. 🙏🏻\n",
            "\n",
            "If some people who seek the entries / stories, sorry, sorry. Don't get back. 🤍\n",
            " I can the best of my\n",
            "\n",
            "🇱🇰💪🏼 ♥ ️\n",
            "statement 69 : I appreciate this daughter's effort ...\n",
            "\n",
            "But when you are boarded \"PLEASE VISIT SRILANK\", you may think that I may think in the country,\n",
            "\n",
            " \"They have a thousand reasons for their nationality to go to their country to the country of their country together.\"\n",
            "\n",
            "A country traveling to a country is not because the Rivewans, whoever we have come, and they come to come, they are not to come.\n",
            "\n",
            "Therefore, one of the Atmosphere is a atmosphere, a nation, a ravive, a ravive, is a ravive.\n",
            "\n",
            "I feel like a screaming of the board and think twice thinks twice.\n",
            "\n",
            "All the sins of Parlshale, Devalaya and Taulo, to come to a country that does not have a vipp.\n",
            "statement 70 : Such as well as the technology that makes my loved ones to take the accounts of my loved objectives in my account, as well as my loved ones in the day today, and my accounts in today's time to find their loved objectives in my account. I strongly condemn the efforts of innocent people who are dearesting artists' accounts, doing the accounts of innocent people. If my account is unfairly or injustice to my dear, I will put this note that you have to leave this note Don't answer the error and telling them to apologize and say: As well as the famous popular figures in this country has to be famous in this country with low-shameful behavior in the cyber disruption A society in a country that is trying to be the heroes, which are trying to make the survival of the existence, is in a country ... Such miserans take the same rights in the Cyber ​​Role and protect all the rights of all your accounts ... Thank you ... If so, I apologize for me ...\n",
            "statement 71 : Way to go guys ❤️💪\n",
            "Such Dean must be sent home\n",
            "statement 72 : Since 2009, the Italian Family Visa, US WORKING VISA.Leaving the need to go.Why go?This is my country!The country I was born!May it die!Trying more ...Not going!\n",
            "statement 73 : Elderly Tricks In 2022 Experd !!\n",
            "You Are Fcuknig With The Wrong Generation !!!💪💪\n",
            "# Gohomeranil2022\n",
            "statement 74 : Do you understand why not graduate from Muruththette?\n",
            "\n",
            "What do you think of the convoment photo of night?\n",
            "statement 75 : All of us have one's style.If you tell the world to tell the world, select the mosaic style that suits your style\n",
            "statement 76 : The huge strength of my successful journey.\n",
            "The Biggest Strength Behind My Success.\n",
            "statement 77 : HAPPY FIRST BIRTHDAY SARANY JANCULT 💕\n",
            "Wishing that beautiful cuddle laughing will always be welcome every day.\n",
            "The vicinity of the world is.The heezzesty world must have the strength to cope with every obstacles, with mom and dad, as well as their heads.\n",
            "i love you so much\n",
            "statement 78 : Flirting is a very beautiful expression that a human deal may have to say that I personally think. There is a unique aesthetics within it.\n",
            "\n",
            "But fllation in the world's popular sense is just a humble catch that is being done to make sex with another.\n",
            "\n",
            "No one has the right to give a good or bad judgment of this weevilization.\n",
            "\n",
            "But if I have found the realestheartedness of Flirting, as far beyond this \"sex for sex.\"\n",
            "\n",
            "Sometimes people are like a lot of drawings placed on the exhibition.\n",
            "\n",
            "We are trying to choose the same drawings and understand the same arts from these paintings.\n",
            "\n",
            "If we need an occasional ascent painting we meet at this art down, we can buy home and hang the bedroom.\n",
            "\n",
            "Often we build romantic relationships with such \"drawings\". In time, our willingness can be changed due to the external and internal factors that we have to change in the bedroom.\n",
            "\n",
            "But we do not need to take more pictures. But they can enjoy it, and it can be appreciated. We can also express and evaluate this taste and evaluation.\n",
            "\n",
            "Once a drawing painting is hung in the bedroom of his house, you can enjoy the picture and enjoy the picture and live on the picture.\n",
            "\n",
            "I think about Flirting personally thinks.\n",
            "\n",
            "But in the process of enjoying these paintings, some complex places arise.\n",
            "\n",
            "Often people do not know if people don't harm a drawing. Sometimes they defend the drawings in the bedroom home, they deal with drawings, they deal with the drawings and unlimited.\n",
            "\n",
            "Others think that if they have to taste a picture, it is necessary to own the picture. The taste and right to make it a meaningless relationship.\n",
            "\n",
            "As a result, the vicinity and a castic (toxic) create a human deal.\n",
            "\n",
            "Without going there, in the framework of civilization and the Sri Lankan framework, we can enjoy the painting of the arts.\n",
            "\n",
            "This may be like retaining balance along the brand of the circusers, too, and the balance of balance.\n",
            "\n",
            "Since we can pay, spend time and spends the circus because we can enjoy the difficult sport with balance.\n",
            "\n",
            "When I think, human transactions are colorful and varied, and some of these transactions are multi-dimeni.\n",
            "\n",
            "Sometimes the plane can be seen by the surface of those transactions, and there is a underscore. There may be an eye on which the eye and a blade that cannot be seen.\n",
            "\n",
            "If only the transactions are only in one layer, human transactions are only a bit of dry activities.\n",
            "statement 79 : Crictorslah people ...\n",
            "\n",
            "We do not usually write about personal characters. There is no matter what it is like.\n",
            "\n",
            "The Team in Sri Lanka..We want Sri Lanka.\n",
            "From Sri Lanka, we are hembiriissa ... 😊\n",
            "\n",
            "Crictorslah people!\n",
            "\n",
            "Bring lions bring the cup ..\n",
            "Ok!\n",
            "statement 80 : Today, it is a very important factor that digital marketing every one to a larger corporate business in a small corporate business. Increase the sales at the business, make the brand of this thing has become an uncontrolled thing.\n",
            "So many people think that a lot of digital marketing is to make a page at Facebook at Facebook at Facebook and find a buse. But doing this digital marketing is really different. Facebook marketing is just one of the little part of digital marketing.\n",
            "It is important that someone who does a business do not apply to the DIGITAL marketing, social media marketing, which comes under it, is a creative strateive, like web development.\n",
            "If you can do so with a strategy or a businy, you can definitely a success. One example is that I am able to appoint a director who is a member of the country's economic problems and covard. Our BRANDLABS team went there, go beyond the general traditional digital marketing and a significant method was used to uplift the business.\n",
            "So many of the main businesses in Sri Lanka have been able to provide foreign exchange from USA, Australia to provide foreign institutions from USA, Australia to serve overseas from USA, Australia, to serve overseas from USA, Australia, to serve overseas from USA, Australia. .\n",
            "So I remind you that you can make a big success in the space of the Digital Marketing in Sri Lanka by means of the method of methodologies.\n",
            "Today, it is a very important factor that digital marketing every one to a larger corporate business in a small corporate business. Increase the sales at the business, make the brand of this thing has become an uncontrolled thing.\n",
            "#harendrabs #bancelessdreambu #riterabs #bandrenaurif #kreprebs #commenting #digitallymaketing #digitalmaketing #digitallymarket\n",
            "statement 81 : \"The\" Contribution 18 \"\n",
            "Prince of Wales College Media Center for Earth Day\n",
            "Many things occurred when the confession of the demonstration of the vaccination of the vacant podium / kavindu's victory.Thank you, Nipun, Sandun, invited.❤\n",
            "#Print_ofhana18 #print_of_wales #cambabrians #cmbu #judge #Mories\n",
            "statement 82 : \"Yout in Govace\"\n",
            "The program will be held with the President today (22).04.45 pm06.00 You can watch and use the news through Zomom.\n",
            "Note\n",
            "I am kindly informed that journalists have no opportunity to interrogate.\n",
            "statement 83 : When the six-twins go to see the twins, Haseitu Malli donates the free delivery in the free delivery. Delivery I have no girl\n",
            "statement 84 : Don't be a dream more, click below to wisish your preferred Smartphone.\n",
            "https://www.dfcc.lk/make-a-wish/\n",
            "#Dfcc #dfcBank #dfinorve #finersCrosed #makeware #Wish #wishes #dfccard #dficitcards #dfccards #dfcccccard #dfccccccccard #dfccccccccccard #dfcccccccccccccccard #dfccccccccccccccccccccccccccccccccccccccccccccccccccccccccccccccccccccccccccccccccccc.\n",
            "statement 85 : roud moment for pera peeps 🥰\n",
            "Our warm greeting e\n",
            "statement 86 : The Buddhist sacred city of 50 more years in 50 years.I have something to think.\n",
            "statement 87 : I lodged a complain against The People Who Have Given Wrong and Fire\n",
            "Tilini Priyamamali looked into complaint against all those who claim to be active browser, creating false falsehoods to engage in the money, making the false scratching of the truth, creating false falsehoods to engage in the money. .\n",
            "statement 88 : I am writing prejudice.\n",
            "\"PUTHA IT TYPE, just my type, just do your yoob job and be Happy\"\n",
            "On June or July morning, I phoned me a friend.\n",
            "Manchanga left Ras.\n",
            "I asked where police.\n",
            "Slave Island has been placed at the police\n",
            "I'll get back to courts.\n",
            "When the police were going to the police, Ratthdiya police station in the police station.\n",
            " Attorney Bope Britain's brother, see the arrests on the struggle, and see everyone else. ❤️\n",
            "When I heard that I had never talked, and asked what I was in front of the court in front of the Case. I'm confident that I was confident that the Best Sure is the best guarantors come on bail.\n",
            "At about 3 pm, the Fort courtyard was gathered at the Fort Court. I went back to the police. The Ratwatte will be presented to the courtyard of 8 years.\n",
            "As a new Junior lawyer, I am known as a group of Velcoller Senior Attorneys. Knowing about the Supreme Law The court work has already started working with all of the day's court work, and most senior have said that most senior officials have been severely involved.\n",
            "I can't imagine that heen was even torture to find a senior lawyer. Kaushal Sir, who had little interest in the struggle, and I was told in the sir Rattawa, you can use the sirrt bail application in the sir Rattawa. I can't find anyone, sir.\n",
            "Sir .Ok I 'Have I has criminal. I'm Coming Because WE CAN'T LETT TEAGALAYA PEOPLE DOWN. But i'm not Sure.\n",
            "Later, after I learned that Kaushal Sir's first bail was bailed.\n",
            "Kaushal Sir, who is still advised from the back of the cases, is a very humble teacher who has been instructing to talk to these cases. ❤️\n",
            "When I was able to overcome the more examples of Kaushal, he said,\n",
            "\"PUTHA ITS NOT MY TYPE, Just DOOUt MY TEPE, Just Do Your Jour Jour Jour and Be Happy\"\n",
            "#Basl #baslelection2023 #president\n",
            "statement 89 : Missing alert 🔴\n",
            "Another student of the Peradeniya University, Engineering Faculty disappears!\n",
            "statement 90 : How is our country bankrupt? We have a dignity too.\n",
            "How can we say that our country is bankrupt? We have a dignity too. Even in the government, we are in the government, but we are Sri Lankans. We have no other passport.\n",
            "In this country, we die. Understand this is not going to go this. We told the restructuring of debts. Understand now.\n",
            "Complete story: https://bit.ly/3kydcbs\n",
            "#Harshadesilva # harssha4colombo #Harsasilwa #kaka\n",
            "SEE LESS\n",
            "statement 91 : A Police Day of A MURDEROUS 03. GOING BEHINS POLITICIANS\n",
            "'Abnormal Police Day' in a murder police\n",
            "The 156th Police Day was celebrated today. President, Prime Minister, the Speaker went to the 'Five' ceremony. The police are in the country's law and order to protect the country's law and order. Police say another general department of the government. It's not a security forces. Therefore, a government agency who is bound to protect the law of the country that apply the general laws of the public service.\n",
            "statement 92 : Our youths who have made the cricket field back to the world. The Lions Are Back!Champs.SO PROD OF OUR CRICKETERS.#TeamSrilanka #srilankacecket #lankanlions # t20siacup2022\n",
            "statement 93 : Dear Amanda, I always thank my life with beautiful words, and thank my life.Reading what is writing, my mind is filled with you ... It's Ping.Sitting on my back and pushing me back - 'Rainforce' is a CAPTAIN you!Thanks to this love, and I love too much!(I don't understand my feeling in beautiful words like you, SORRY 😞)\n",
            "statement 94 : Seven Moali Almeida, who welcomed the award. \"Finally, I wrote:\" I wrote this book.A date of the country .................. Shehan is happy with you, proud.\n",
            "statement 95 : Kricketers people ... usually not to write about personal characters. It's okay, if you say it is okay. May you be ..\n",
            "statement 96 : One of the most beautiful day for our young girls on the Gaming / Streaming Field today, the first time, the first one will bring to a single roof and exchange friendships to them in the same roof to meet the first life Get a chance. Top Strears With NERO & THE TEAM. Here are a few Highlights in the Event today. See if you know you\n",
            "statement 97 : Primary education and giving teacher training education education is the beneficiaries of Gender Studies as a compulsory subject😡\n",
            "statement 98 : On the cyber crime boy, the Parkoo philosophical babies spoken to! Cyber ​​Crimesmy is just a couple, but only about my expertise! But Frauds (Threats), Defamation (slander), defamation (slander) and a lot of crimes have to be! We do to understand the people of people to understand the people, give people the fear of people and give a push to make the laws ... STOP GIVING STUPID PERSONES! Learn How to English In Critical Conversations! Break The Stigma ✌️ ♥\n"
          ]
        }
      ]
    },
    {
      "cell_type": "markdown",
      "source": [
        "import and downlode libraries"
      ],
      "metadata": {
        "id": "-ZYMEN8twrry"
      }
    },
    {
      "cell_type": "code",
      "source": [
        "import re\n",
        "import nltk\n",
        "nltk.download('stopwords')\n",
        "nltk.download('punkt')\n",
        "from nltk.corpus import stopwords\n",
        "from nltk.stem.porter import PorterStemmer"
      ],
      "metadata": {
        "colab": {
          "base_uri": "https://localhost:8080/"
        },
        "id": "RXkFl2FeJxhb",
        "outputId": "95c058eb-156c-4b8c-d40c-dbef014f09a0"
      },
      "execution_count": null,
      "outputs": [
        {
          "output_type": "stream",
          "name": "stderr",
          "text": [
            "[nltk_data] Downloading package stopwords to /root/nltk_data...\n",
            "[nltk_data]   Package stopwords is already up-to-date!\n",
            "[nltk_data] Downloading package punkt to /root/nltk_data...\n",
            "[nltk_data]   Package punkt is already up-to-date!\n"
          ]
        }
      ]
    },
    {
      "cell_type": "markdown",
      "source": [
        "remove stop words"
      ],
      "metadata": {
        "id": "I-pOPWfJw0yp"
      }
    },
    {
      "cell_type": "code",
      "source": [
        "stopWords = set(stopwords.words('english'))\n",
        "posterStemer = PorterStemmer()\n",
        "corpus = []\n",
        "for i in range(len(x)):\n",
        "  comment = x[i].lower()\n",
        "  comment = re.sub(r\"http\\S+|www\\S+|https\\S+\", '',comment)\n",
        "  comment = re.sub(r'\\@\\w+|\\#',' ',comment)\n",
        "  comment = re.sub('[^a-z]', ' ', comment)\n",
        "  comment_token = nltk.word_tokenize(comment)\n",
        "  comment = [posterStemer.stem(word) for word in comment_token if word not in stopWords]\n",
        "  comment = ' '.join(comment)\n",
        "  corpus.append(comment)\n",
        "  print('caption', i , ':', comment)"
      ],
      "metadata": {
        "colab": {
          "base_uri": "https://localhost:8080/"
        },
        "id": "oGzvSNhWZ0XV",
        "outputId": "1ebbd8b3-c832-4bd2-ecdb-67586db44cec"
      },
      "execution_count": null,
      "outputs": [
        {
          "output_type": "stream",
          "name": "stdout",
          "text": [
            "caption 0 : usual write person charact matter like team sri lanka want sri lanka sri lanka hembiriissa crictorslah peopl bring lion bring cup\n",
            "caption 1 : nuwara eliya tri singer roshan fernando brother legend music music mani year experi music industri first time flash back back practic fortti fortun love accept meet beauti peopl let us share us stage let\n",
            "caption 2 : ego system vs eco system gener peopl sri lanka use work togeth ego system one leader leader know everyth leader command other say thing leader want hear tell leader rejoic everyon part power struggl protect part peopl cling power struggl mankind time liber democrat movement base eco system ego system friend eco system learn one commun knowledg share propos accept respons other honestli express view respons help feed therefor whatev work rich connect liber democrat movement ldm discuss group profession build countri run eco system ego system srilanka life\n",
            "caption 3 : beauti display seen morn nugegoda st joshn colleg learn bhathkand univers india india teacher student enter univers univers saw nugegoda st johnn student capabl win\n",
            "caption 4 : smook bad habit menda dane cricket love cricket cricket cricket\n",
            "caption 5 : abl buy jeep first vehicl first vehicl work abl buy jeep sensooooo without safeti airbaga sensor sensor work eleph well today sinhabahu manufactur team gone crash crash inaugur manufactur abl get crash colombo eight eighth eight hour aircraft abl get crash colombo injur injur key even hardest true love matter love heart word action singl good less\n",
            "caption 6 : life meet peopl one nation peopl go pre love futur strong walk around life peopl get other make cage cage patient come day person love whole world love whatev problem find close eye strength toxic relationip push push alreadi get one get one first love late give good one day take care love perhap prestacl otherwis come make whole world beauti bound would catch eye catch eye\n",
            "caption 7 : equip think life alway think great lack man shortli bottom lifestyl class lectur chang chang livestyl space need creat space continu social necessari equip chang peopl learn equip empti space person take place parallel see ugli mismatch throughout societi use advanc equip one man acquaint struggl mani youth boil struggl new equip come new equip allow chang full life philosophi control countri control countri rural mass polit power one thing say patt one lifestyl chang societi compulsori requir requir compact new equip unwil dent separ human live peopl practic want smash believ lifestyl workshop chang let rdesign motherdand\n",
            "caption 8 : fact govern introduc good wealth tax system part countri increas incom tax instead get tax tax tax paid tax tax tax wealth tax like track tax tax present pay tax sri lanka countri buy properti get price yawna buy home apart buy current tax present high valu properti nomin tax avail sri lanka tax properti current increas signific amount similarli wealth tax system middl incom earner bring balanc middl incom medium law protect much possibl increas tax revenu howev one sri lanka law even think wealth tax reason mani polici maker larg reluct pay believ challeng overcom new group clear vision solut make decis solut may overcom fairi tale solv issu concurr public confid must confirm tax system introduc wide plan reduc govern spend reduct solut tax system wide discuss dialogu ldm yesterday capit financi market expert financi manag expert prasanthawala prasanantha abeykoon attend speaker srilanka life\n",
            "caption 9 : children forward alcohol diamond border child side listen mouth listen other other need societi children secur vessel whole hallway silenc silenc like breath voic voic spoken tell us shout us everyon breath one time son review video sever word surpris five year old podda spoke without hesit cute child without tin creativ creativ uniqu platform enforc children stage children st centuri scare hide hide captur shoulder catch unsaf bad touch winter chanc meet child maoon beat n tadard\n",
            "caption 10 : hela pay busi io app direct appl appprum approv inform time\n",
            "caption 11 : take function life say parachut journey jump mountain sri lanka tourist commenc first time topic hasitha wijewardena watch youtub httst youtu xdbdlpsu yi paraglidin began take adventur sport newli expand paraglidin sport person unvar afraid look floor bird float sky kandi kurunegala condem pilot forc us control one ride rs go first time sri lanka sri lanka connect ajanthi bandara brother ajantha bandara fb page direct yuwawaraj athukoralaloala darshana eranga camara dinesh kaluarachchi sudesh dhammika thilakasiri lahiru chamara drone isuru mudiyans web naveen eranga special thank chandana ekanayak mullegama\n",
            "caption 12 : place went citi go shoot want shoot cloth best place get beauti go citi kandi mbk casual rang activ rang gone kandi nolimit nolimit nolimitkandi fassionsrilanka nolimit sri lanka\n",
            "caption 13 : could bring laughter beauti innoc face children studi primari school primari school primari school gener primari school abl provid school equip remind us help sacrific friend thank everyon help everyon like help peopl innoc small children like\n",
            "caption 14 : join player player includ sri lanka cricket tournament commenc tomorrow asiacup\n",
            "caption 15 : religion cricket game peopl yet peopl like life rudi koertzen friend cricket play live sport judg unfortun retir life trip saw sever post comgram would blaze social media cover judg love game sri lankan audienc caus biggest mani decis cricket accur incur therefor look love avoid advertis whether friend kortzen anyon els anyon els mani peopl cricket sport cricket isaian areetzen areend dear friend mine unfortunt pass away away recerdi retrien may hebst peac today saw post comment criticiz criticiz criticiz criticiz criticiz criticiz critic koertzen neg truli disappoint fore sadden fellow umpir see fan talk w doe cricket easi decis accur tat givet give rightt talk especi pass away insteaad cricket fan dedic commit toward cricket kind request anyon share content think right decis\n",
            "caption 16 : wetrout obsess life noth rosi mam said said said said said saveri ste ste event bay leagalley canner dow someth peopl unless born past tell heat even children ahinzi protest karanna highway countri countri arabah sinc festiv tri forget end one internion festiv exer need need ever reduc peopl come rememb ball lank\n",
            "caption 17 : stop hunt pilot struggl person arrest base live video video vidyan vidrass said plenti murder first arrest despit demarket place struggl appear uncondit struggl social justic justic fulfil social justic pathum kerner initi arrest struggl suppress struggl releasepatumkern\n",
            "caption 18 : look forward countri proud around shepherd heal\n",
            "caption 19 : read top lot peopl write put emf djmag dj magg artist market ptingi compani later start promot festiv top come get lot like hardwar like hardwel david guetta go industri name go compani start actual given peopl realli tallent fame gone see dj magg look dj magag l l much youe spend arteist manag compani agenc artist rate much commiss artistss manag laugh put artistst sinc paper paid multipl notic top per one world forest usa south amaraica consid australia asian counti even song heard top topp festiv get artist grave better emf still small brand mayb yen dubai australia abl splea thu market\n",
            "caption 20 : hemal ranasingh latest film launch song film show india sri lanka creat togeth silarv screen super star hemal happi take sri lankan cinema excel film second show bring sri lankan cinema excel world cinema countri struggl long term struggl film second show go world cinema world cinema moment crisi see film film sinhala tamil languag direct gnanam hemal ranasingh pallavi subhash best hemal sachindra ranasingh sri mal malkz wije aseka wijewardena photograph hasitha n nilu\n",
            "caption 21 : le pay vs card payment among world cash payment methodolog come forward applepach alipay world financi payment although introduc helpay abl believ abl unabl also ensur foreign exchang countri abl chang would reason unabl enter chang believ possibl purpos updat hela pay profil provid simpl secur innov digit payment experi applepach alipay soon next chang\n",
            "caption 22 : film brahmast thought make cover song rs here littl cover rendit ksariya dimraaw offf music arrangec siti video skill\n",
            "caption 23 : friend work first job life abl win hope win life dread win life happi still friendli entrepreneur work togeth friend work togeth simpl friend readi share tell make dollar easi make job make subscrib youtub channel place fb link nudasun anyth want hear\n",
            "caption 24 : put countri togeth transser one let rallyround lion pride\n",
            "caption 25 : lol journalist piumi hansamali piumi hansamali man one commet get big brother sri lanka went fun comment read think journalist matter wakkadu wakkaduwa read newspap see happen pimi hangamali chamuditha samarawickra chamuditha samarawickra\n",
            "caption 26 : rosi senanayak threaten stop hellfir music festiv hello sri lanka hellfir music festiv creat controversi speech sri lanka use name use demon faith stori satan first care unexpect came tell ca joke even colombo mayor colombo rosi senanayak amaz listen view satan realli believ satan intern music festiv toppin world halloween theme unfamiliar sri lanka strang countri world anoth thing theme one theme problem\n",
            "caption 27 : go home peopl send dollar go home two year surviv need solut keyboard hero watch full video beforeo befoe befomenta\n",
            "caption 28 : distort politician distort vip behavior name shame resist street good start\n",
            "caption 29 : imf crocodil tear keep talk group protest imf repres prepar imf demonstr without block gate night noth morn load imf unrest hinder discuss like constant pan say nand ranil\n",
            "caption 30 : challeng dasun shanaka bhanuka rajapaksa chamika karunaranetn beat want guy beat hit mani six world cup okay lose battl\n",
            "caption 31 : holpi help better mental health amidst work stresst tod go go fish compani hobbi hobbi help better mental health middl work fish talk keep mental health high hobbi spend time\n",
            "caption 32 : thank everyon love much subscrib link see beauti thing\n",
            "caption 33 : tri write articl news spread news rapidli spread social media day famili allianc famili spread variou stori social media howev quarantin day cours covid run situat improv would like inform one famili diagnos covid respons world avoid fals propaganda avoid fals propaganda today tomorrow live good health habit help save life anoth anoth stop spread fals love god stay safe covid joke\n",
            "caption 34 : duet share difficult part dag song play gift want hang haadakam challeng share version adlig us win prize\n",
            "caption 35 : suddenli know abl spend lakh diaspora trap awar cima qualifi account cima qualifi account embl struggl far none benefit obtain person ever taken measur suppress far unemploy front mudcaleneri clennel five million peopl fell appoint today humili alreadi forward sampath bank hope take legal action tomorrow morn\n",
            "caption 36 : noth els work within anoth law countri properti damag incid take place place place\n",
            "caption 37 : recent circul statement file technic investig confirm technic investig sri lanka larg decreas method confirm accuraci inform social media circul inform\n",
            "caption 38 : sinhalest sinhala cinema releas tomorrow go mouth mouth thief suffer\n",
            "caption 39 : ceylon tea everyon know sad suffer sad\n",
            "caption 40 : view supris gift given divis vide video see video\n",
            "caption 41 : advertis agenc trend set brand tren make brand one hit social media platform trib ad read\n",
            "caption 42 : young entrepreneur solv ticket onlin system hour\n",
            "caption 43 : share land boy maru music video\n",
            "caption 44 : thank new join youtu duutub premium member\n",
            "caption 45 : share messag villag villag villag citi citi come put provinc know\n",
            "caption 46 : schoolmin metnow methodist colleg slip kollupitiya front metaphistha tree front post geograph knowledg sad\n",
            "caption 47 : talk nonco yolk without hang camouflag mud\n",
            "caption 48 : greatest tragedi drown countri entrepreneuri cultur often racket manipul take place\n",
            "caption 49 : saw sever post comgram would blaze social media cover\n",
            "caption 50 : readi bring asian trophi sri lanka return cricket spring\n",
            "caption 51 : strengthen lion asian trophi encourag lion add greet log dlg lk apekollo link\n",
            "caption 52 : latest songwind get releas st trailer\n",
            "caption 53 : month russian aeroflot thank russian assist start flight sri lanka russia\n",
            "caption 54 : fan alway strengthen cricket trip valuabl fan father\n",
            "caption 55 : leader busi eat countri\n",
            "caption 56 : countri build countri countri tribe island\n",
            "caption 57 : person arrest base live video video vidyan vidrass said plenti murder first arrest\n",
            "caption 58 : fall fraud done program done replant possibl\n",
            "caption 59 : renown reward ban noleft campaign\n",
            "caption 60 : today mahinda christma held hospit hotest hospit maharagun hayart center neduni chanchala group peopl organ group peopl organ group peopl\n",
            "caption 61 : noth peopl afraid safeti children ticktock let us protect creativ protect\n",
            "caption 62 : platinum cake exhibit polonnaruwa area last week talk number skill cake manufactur wonder experi inde program anoth exampl women entrepreneurship empower strength entrepreneur continu without challeng thank miracl cake invit uniqu event\n",
            "caption 63 : first award best emerg activ year thank lot raigam tele award thank much chang perform style give new way perform give new way perform gave ident perform life also danishka kirattillek whitewash black whitewash white pull internet whitewash internet white white whitewalk whitewash internet whitewash drama whitewash drain walk thank audienc thank much top chair nation televis much\n",
            "caption 64 : yupun priyadarshana abeykoon world best tonight wanda diamond leagud leagu final zurich sl time wish best great race men run\n",
            "caption 65 : use photo photo tribe phone number come tell msg know msga also msga come wick life inconveni sorri\n",
            "caption 66 : latest campaign ranil blow polit appoint ranil socialian social page profil meet page post like sell search report chang social opinion curs guy sri lanka sri lanka care suitabl unforeseen failur one hand done someth\n",
            "caption 67 : third inquiri cite gota go home\n",
            "caption 68 : happi yesterday came street sri lankan want think everyon actual tri chang came social media use thing thing artist photo right put social media realli proud peopl addit thing like stone chang aim countri chang say anyth stay focuss peopl seek entri stori sorri sorri get back best\n",
            "caption 69 : appreci daughter effort board pleas visit srilank may think may think countri thousand reason nation go countri countri countri togeth countri travel countri rivewan whoever come come come come therefor one atmospher atmospher nation raviv raviv raviv feel like scream board think twice think twice sin parlshal devalaya taulo come countri vipp\n",
            "caption 70 : well technolog make love one take account love object account well love one day today account today time find love object account strongli condemn effort innoc peopl dearest artist account account innoc peopl account unfairli injustic dear put note leav note answer error tell apolog say well famou popular figur countri famou countri low shame behavior cyber disrupt societi countri tri hero tri make surviv exist countri miseran take right cyber role protect right account thank apolog\n",
            "caption 71 : way go guy dean must sent home\n",
            "caption 72 : sinc italian famili visa us work visa leav need go go countri countri born may die tri go\n",
            "caption 73 : elderli trick experd fcuknig wrong gener gohomeranil\n",
            "caption 74 : understand graduat muruththett think convoment photo night\n",
            "caption 75 : us one style tell world tell world select mosaic style suit style\n",
            "caption 76 : huge strength success journey biggest strength behind success\n",
            "caption 77 : happi first birthday sarani jancult wish beauti cuddl laugh alway welcom everi day vicin world heezzesti world must strength cope everi obstacl mom dad well head love much\n",
            "caption 78 : flirt beauti express human deal may say person think uniqu aesthet within fllation world popular sens humbl catch done make sex anoth one right give good bad judgment weevil found realesthearted flirt far beyond sex sex sometim peopl like lot draw place exhibit tri choos draw understand art paint need occasion ascent paint meet art buy home hang bedroom often build romant relationship draw time willing chang due extern intern factor chang bedroom need take pictur enjoy appreci also express evalu tast evalu draw paint hung bedroom hous enjoy pictur enjoy pictur live pictur think flirt person think process enjoy paint complex place aris often peopl know peopl harm draw sometim defend draw bedroom home deal draw deal draw unlimit other think tast pictur necessari pictur tast right make meaningless relationship result vicin castic toxic creat human deal without go framework civil sri lankan framework enjoy paint art may like retain balanc along brand circus balanc balanc sinc pay spend time spend circu enjoy difficult sport balanc think human transact color vari transact multi dimeni sometim plane seen surfac transact underscor may eye eye blade seen transact one layer human transact bit dri activ\n",
            "caption 79 : crictorslah peopl usual write person charact matter like team sri lanka want sri lanka sri lanka hembiriissa crictorslah peopl bring lion bring cup ok\n",
            "caption 80 : today import factor digit market everi one larger corpor busi small corpor busi increas sale busi make brand thing becom uncontrol thing mani peopl think lot digit market make page facebook facebook facebook find buse digit market realli differ facebook market one littl part digit market import someon busi appli digit market social media market come creativ strateiv like web develop strategi busini definit success one exampl abl appoint director member countri econom problem covard brandlab team went go beyond gener tradit digit market signific method use uplift busi mani main busi sri lanka abl provid foreign exchang usa australia provid foreign institut usa australia serv oversea usa australia serv oversea usa australia serv oversea usa australia remind make big success space digit market sri lanka mean method methodolog today import factor digit market everi one larger corpor busi small corpor busi increas sale busi make brand thing becom uncontrol thing harendrab bancelessdreambu riterab bandrenaurif krepreb comment digitallymaket digitalmaket digitallymarket\n",
            "caption 81 : contribut princ wale colleg media center earth day mani thing occur confess demonstr vaccin vacant podium kavindu victori thank nipun sandun invit print ofhana print wale cambabrian cmbu judg mori\n",
            "caption 82 : yout govac program held presid today pm watch use news zomom note kindli inform journalist opportun interrog\n",
            "caption 83 : six twin go see twin haseitu malli donat free deliveri free deliveri deliveri girl\n",
            "caption 84 : dream click wisish prefer smartphon dfcc dfcbank dfinorv finerscros makewar wish wish dfccard dficitcard dfccard dfcccccard dfccccccccard dfccccccccccard dfcccccccccccccccard dfccccccccccccccccccccccccccccccccccccccccccccccccccccccccccccccccccccccccccccccccccc\n",
            "caption 85 : roud moment pera peep warm greet e\n",
            "caption 86 : buddhist sacr citi year year someth think\n",
            "caption 87 : lodg complain peopl given wrong fire tilini priyamamali look complaint claim activ browser creat fals falsehood engag money make fals scratch truth creat fals falsehood engag money\n",
            "caption 88 : write prejudic putha type type yoob job happi june juli morn phone friend manchanga left ra ask polic slave island place polic get back court polic go polic ratthdiya polic station polic station attorney bope britain brother see arrest struggl see everyon els heard never talk ask front court front case confid confid best sure best guarantor come bail pm fort courtyard gather fort court went back polic ratwatt present courtyard year new junior lawyer known group velcol senior attorney know suprem law court work alreadi start work day court work senior said senior offici sever involv imagin heen even tortur find senior lawyer kaushal sir littl interest struggl told sir rattawa use sirrt bail applic sir rattawa find anyon sir sir ok crimin come lett teagalaya peopl sure later learn kaushal sir first bail bail kaushal sir still advis back case humbl teacher instruct talk case abl overcom exampl kaushal said putha type doout tepe jour jour jour happi basl baslelect presid\n",
            "caption 89 : miss alert anoth student peradeniya univers engin faculti disappear\n",
            "caption 90 : countri bankrupt digniti say countri bankrupt digniti even govern govern sri lankan passport countri die understand go go told restructur debt understand complet stori harshadesilva harssha colombo harsasilwa kaka see less\n",
            "caption 91 : polic day murder go behin politician abnorm polic day murder polic th polic day celebr today presid prime minist speaker went five ceremoni polic countri law order protect countri law order polic say anoth gener depart govern secur forc therefor govern agenc bound protect law countri appli gener law public servic\n",
            "caption 92 : youth made cricket field back world lion back champ prod cricket teamsrilanka srilankacecket lankanlion siacup\n",
            "caption 93 : dear amanda alway thank life beauti word thank life read write mind fill ping sit back push back rainforc captain thank love love much understand feel beauti word like sorri\n",
            "caption 94 : seven moali almeida welcom award final wrote wrote book date countri shehan happi proud\n",
            "caption 95 : kricket peopl usual write person charact okay say okay may\n",
            "caption 96 : one beauti day young girl game stream field today first time first one bring singl roof exchang friendship roof meet first life get chanc top strear nero team highlight event today see know\n",
            "caption 97 : primari educ give teacher train educ educ beneficiari gender studi compulsori subject\n",
            "caption 98 : cyber crime boy parkoo philosoph babi spoken cyber crimesmi coupl expertis fraud threat defam slander defam slander lot crime understand peopl peopl understand peopl give peopl fear peopl give push make law stop give stupid person learn english critic convers break stigma\n"
          ]
        }
      ]
    },
    {
      "cell_type": "code",
      "source": [
        "corpus"
      ],
      "metadata": {
        "colab": {
          "base_uri": "https://localhost:8080/"
        },
        "id": "bE_pv5u1azxL",
        "outputId": "62966d29-2882-4111-8f21-ea76b6b5f4c7"
      },
      "execution_count": null,
      "outputs": [
        {
          "output_type": "execute_result",
          "data": {
            "text/plain": [
              "['usual write person charact matter like team sri lanka want sri lanka sri lanka hembiriissa crictorslah peopl bring lion bring cup',\n",
              " 'nuwara eliya tri singer roshan fernando brother legend music music mani year experi music industri first time flash back back practic fortti fortun love accept meet beauti peopl let us share us stage let',\n",
              " 'ego system vs eco system gener peopl sri lanka use work togeth ego system one leader leader know everyth leader command other say thing leader want hear tell leader rejoic everyon part power struggl protect part peopl cling power struggl mankind time liber democrat movement base eco system ego system friend eco system learn one commun knowledg share propos accept respons other honestli express view respons help feed therefor whatev work rich connect liber democrat movement ldm discuss group profession build countri run eco system ego system srilanka life',\n",
              " 'beauti display seen morn nugegoda st joshn colleg learn bhathkand univers india india teacher student enter univers univers saw nugegoda st johnn student capabl win',\n",
              " 'smook bad habit menda dane cricket love cricket cricket cricket',\n",
              " 'abl buy jeep first vehicl first vehicl work abl buy jeep sensooooo without safeti airbaga sensor sensor work eleph well today sinhabahu manufactur team gone crash crash inaugur manufactur abl get crash colombo eight eighth eight hour aircraft abl get crash colombo injur injur key even hardest true love matter love heart word action singl good less',\n",
              " 'life meet peopl one nation peopl go pre love futur strong walk around life peopl get other make cage cage patient come day person love whole world love whatev problem find close eye strength toxic relationip push push alreadi get one get one first love late give good one day take care love perhap prestacl otherwis come make whole world beauti bound would catch eye catch eye',\n",
              " 'equip think life alway think great lack man shortli bottom lifestyl class lectur chang chang livestyl space need creat space continu social necessari equip chang peopl learn equip empti space person take place parallel see ugli mismatch throughout societi use advanc equip one man acquaint struggl mani youth boil struggl new equip come new equip allow chang full life philosophi control countri control countri rural mass polit power one thing say patt one lifestyl chang societi compulsori requir requir compact new equip unwil dent separ human live peopl practic want smash believ lifestyl workshop chang let rdesign motherdand',\n",
              " 'fact govern introduc good wealth tax system part countri increas incom tax instead get tax tax tax paid tax tax tax wealth tax like track tax tax present pay tax sri lanka countri buy properti get price yawna buy home apart buy current tax present high valu properti nomin tax avail sri lanka tax properti current increas signific amount similarli wealth tax system middl incom earner bring balanc middl incom medium law protect much possibl increas tax revenu howev one sri lanka law even think wealth tax reason mani polici maker larg reluct pay believ challeng overcom new group clear vision solut make decis solut may overcom fairi tale solv issu concurr public confid must confirm tax system introduc wide plan reduc govern spend reduct solut tax system wide discuss dialogu ldm yesterday capit financi market expert financi manag expert prasanthawala prasanantha abeykoon attend speaker srilanka life',\n",
              " 'children forward alcohol diamond border child side listen mouth listen other other need societi children secur vessel whole hallway silenc silenc like breath voic voic spoken tell us shout us everyon breath one time son review video sever word surpris five year old podda spoke without hesit cute child without tin creativ creativ uniqu platform enforc children stage children st centuri scare hide hide captur shoulder catch unsaf bad touch winter chanc meet child maoon beat n tadard',\n",
              " 'hela pay busi io app direct appl appprum approv inform time',\n",
              " 'take function life say parachut journey jump mountain sri lanka tourist commenc first time topic hasitha wijewardena watch youtub httst youtu xdbdlpsu yi paraglidin began take adventur sport newli expand paraglidin sport person unvar afraid look floor bird float sky kandi kurunegala condem pilot forc us control one ride rs go first time sri lanka sri lanka connect ajanthi bandara brother ajantha bandara fb page direct yuwawaraj athukoralaloala darshana eranga camara dinesh kaluarachchi sudesh dhammika thilakasiri lahiru chamara drone isuru mudiyans web naveen eranga special thank chandana ekanayak mullegama',\n",
              " 'place went citi go shoot want shoot cloth best place get beauti go citi kandi mbk casual rang activ rang gone kandi nolimit nolimit nolimitkandi fassionsrilanka nolimit sri lanka',\n",
              " 'could bring laughter beauti innoc face children studi primari school primari school primari school gener primari school abl provid school equip remind us help sacrific friend thank everyon help everyon like help peopl innoc small children like',\n",
              " 'join player player includ sri lanka cricket tournament commenc tomorrow asiacup',\n",
              " 'religion cricket game peopl yet peopl like life rudi koertzen friend cricket play live sport judg unfortun retir life trip saw sever post comgram would blaze social media cover judg love game sri lankan audienc caus biggest mani decis cricket accur incur therefor look love avoid advertis whether friend kortzen anyon els anyon els mani peopl cricket sport cricket isaian areetzen areend dear friend mine unfortunt pass away away recerdi retrien may hebst peac today saw post comment criticiz criticiz criticiz criticiz criticiz criticiz critic koertzen neg truli disappoint fore sadden fellow umpir see fan talk w doe cricket easi decis accur tat givet give rightt talk especi pass away insteaad cricket fan dedic commit toward cricket kind request anyon share content think right decis',\n",
              " 'wetrout obsess life noth rosi mam said said said said said saveri ste ste event bay leagalley canner dow someth peopl unless born past tell heat even children ahinzi protest karanna highway countri countri arabah sinc festiv tri forget end one internion festiv exer need need ever reduc peopl come rememb ball lank',\n",
              " 'stop hunt pilot struggl person arrest base live video video vidyan vidrass said plenti murder first arrest despit demarket place struggl appear uncondit struggl social justic justic fulfil social justic pathum kerner initi arrest struggl suppress struggl releasepatumkern',\n",
              " 'look forward countri proud around shepherd heal',\n",
              " 'read top lot peopl write put emf djmag dj magg artist market ptingi compani later start promot festiv top come get lot like hardwar like hardwel david guetta go industri name go compani start actual given peopl realli tallent fame gone see dj magg look dj magag l l much youe spend arteist manag compani agenc artist rate much commiss artistss manag laugh put artistst sinc paper paid multipl notic top per one world forest usa south amaraica consid australia asian counti even song heard top topp festiv get artist grave better emf still small brand mayb yen dubai australia abl splea thu market',\n",
              " 'hemal ranasingh latest film launch song film show india sri lanka creat togeth silarv screen super star hemal happi take sri lankan cinema excel film second show bring sri lankan cinema excel world cinema countri struggl long term struggl film second show go world cinema world cinema moment crisi see film film sinhala tamil languag direct gnanam hemal ranasingh pallavi subhash best hemal sachindra ranasingh sri mal malkz wije aseka wijewardena photograph hasitha n nilu',\n",
              " 'le pay vs card payment among world cash payment methodolog come forward applepach alipay world financi payment although introduc helpay abl believ abl unabl also ensur foreign exchang countri abl chang would reason unabl enter chang believ possibl purpos updat hela pay profil provid simpl secur innov digit payment experi applepach alipay soon next chang',\n",
              " 'film brahmast thought make cover song rs here littl cover rendit ksariya dimraaw offf music arrangec siti video skill',\n",
              " 'friend work first job life abl win hope win life dread win life happi still friendli entrepreneur work togeth friend work togeth simpl friend readi share tell make dollar easi make job make subscrib youtub channel place fb link nudasun anyth want hear',\n",
              " 'put countri togeth transser one let rallyround lion pride',\n",
              " 'lol journalist piumi hansamali piumi hansamali man one commet get big brother sri lanka went fun comment read think journalist matter wakkadu wakkaduwa read newspap see happen pimi hangamali chamuditha samarawickra chamuditha samarawickra',\n",
              " 'rosi senanayak threaten stop hellfir music festiv hello sri lanka hellfir music festiv creat controversi speech sri lanka use name use demon faith stori satan first care unexpect came tell ca joke even colombo mayor colombo rosi senanayak amaz listen view satan realli believ satan intern music festiv toppin world halloween theme unfamiliar sri lanka strang countri world anoth thing theme one theme problem',\n",
              " 'go home peopl send dollar go home two year surviv need solut keyboard hero watch full video beforeo befoe befomenta',\n",
              " 'distort politician distort vip behavior name shame resist street good start',\n",
              " 'imf crocodil tear keep talk group protest imf repres prepar imf demonstr without block gate night noth morn load imf unrest hinder discuss like constant pan say nand ranil',\n",
              " 'challeng dasun shanaka bhanuka rajapaksa chamika karunaranetn beat want guy beat hit mani six world cup okay lose battl',\n",
              " 'holpi help better mental health amidst work stresst tod go go fish compani hobbi hobbi help better mental health middl work fish talk keep mental health high hobbi spend time',\n",
              " 'thank everyon love much subscrib link see beauti thing',\n",
              " 'tri write articl news spread news rapidli spread social media day famili allianc famili spread variou stori social media howev quarantin day cours covid run situat improv would like inform one famili diagnos covid respons world avoid fals propaganda avoid fals propaganda today tomorrow live good health habit help save life anoth anoth stop spread fals love god stay safe covid joke',\n",
              " 'duet share difficult part dag song play gift want hang haadakam challeng share version adlig us win prize',\n",
              " 'suddenli know abl spend lakh diaspora trap awar cima qualifi account cima qualifi account embl struggl far none benefit obtain person ever taken measur suppress far unemploy front mudcaleneri clennel five million peopl fell appoint today humili alreadi forward sampath bank hope take legal action tomorrow morn',\n",
              " 'noth els work within anoth law countri properti damag incid take place place place',\n",
              " 'recent circul statement file technic investig confirm technic investig sri lanka larg decreas method confirm accuraci inform social media circul inform',\n",
              " 'sinhalest sinhala cinema releas tomorrow go mouth mouth thief suffer',\n",
              " 'ceylon tea everyon know sad suffer sad',\n",
              " 'view supris gift given divis vide video see video',\n",
              " 'advertis agenc trend set brand tren make brand one hit social media platform trib ad read',\n",
              " 'young entrepreneur solv ticket onlin system hour',\n",
              " 'share land boy maru music video',\n",
              " 'thank new join youtu duutub premium member',\n",
              " 'share messag villag villag villag citi citi come put provinc know',\n",
              " 'schoolmin metnow methodist colleg slip kollupitiya front metaphistha tree front post geograph knowledg sad',\n",
              " 'talk nonco yolk without hang camouflag mud',\n",
              " 'greatest tragedi drown countri entrepreneuri cultur often racket manipul take place',\n",
              " 'saw sever post comgram would blaze social media cover',\n",
              " 'readi bring asian trophi sri lanka return cricket spring',\n",
              " 'strengthen lion asian trophi encourag lion add greet log dlg lk apekollo link',\n",
              " 'latest songwind get releas st trailer',\n",
              " 'month russian aeroflot thank russian assist start flight sri lanka russia',\n",
              " 'fan alway strengthen cricket trip valuabl fan father',\n",
              " 'leader busi eat countri',\n",
              " 'countri build countri countri tribe island',\n",
              " 'person arrest base live video video vidyan vidrass said plenti murder first arrest',\n",
              " 'fall fraud done program done replant possibl',\n",
              " 'renown reward ban noleft campaign',\n",
              " 'today mahinda christma held hospit hotest hospit maharagun hayart center neduni chanchala group peopl organ group peopl organ group peopl',\n",
              " 'noth peopl afraid safeti children ticktock let us protect creativ protect',\n",
              " 'platinum cake exhibit polonnaruwa area last week talk number skill cake manufactur wonder experi inde program anoth exampl women entrepreneurship empower strength entrepreneur continu without challeng thank miracl cake invit uniqu event',\n",
              " 'first award best emerg activ year thank lot raigam tele award thank much chang perform style give new way perform give new way perform gave ident perform life also danishka kirattillek whitewash black whitewash white pull internet whitewash internet white white whitewalk whitewash internet whitewash drama whitewash drain walk thank audienc thank much top chair nation televis much',\n",
              " 'yupun priyadarshana abeykoon world best tonight wanda diamond leagud leagu final zurich sl time wish best great race men run',\n",
              " 'use photo photo tribe phone number come tell msg know msga also msga come wick life inconveni sorri',\n",
              " 'latest campaign ranil blow polit appoint ranil socialian social page profil meet page post like sell search report chang social opinion curs guy sri lanka sri lanka care suitabl unforeseen failur one hand done someth',\n",
              " 'third inquiri cite gota go home',\n",
              " 'happi yesterday came street sri lankan want think everyon actual tri chang came social media use thing thing artist photo right put social media realli proud peopl addit thing like stone chang aim countri chang say anyth stay focuss peopl seek entri stori sorri sorri get back best',\n",
              " 'appreci daughter effort board pleas visit srilank may think may think countri thousand reason nation go countri countri countri togeth countri travel countri rivewan whoever come come come come therefor one atmospher atmospher nation raviv raviv raviv feel like scream board think twice think twice sin parlshal devalaya taulo come countri vipp',\n",
              " 'well technolog make love one take account love object account well love one day today account today time find love object account strongli condemn effort innoc peopl dearest artist account account innoc peopl account unfairli injustic dear put note leav note answer error tell apolog say well famou popular figur countri famou countri low shame behavior cyber disrupt societi countri tri hero tri make surviv exist countri miseran take right cyber role protect right account thank apolog',\n",
              " 'way go guy dean must sent home',\n",
              " 'sinc italian famili visa us work visa leav need go go countri countri born may die tri go',\n",
              " 'elderli trick experd fcuknig wrong gener gohomeranil',\n",
              " 'understand graduat muruththett think convoment photo night',\n",
              " 'us one style tell world tell world select mosaic style suit style',\n",
              " 'huge strength success journey biggest strength behind success',\n",
              " 'happi first birthday sarani jancult wish beauti cuddl laugh alway welcom everi day vicin world heezzesti world must strength cope everi obstacl mom dad well head love much',\n",
              " 'flirt beauti express human deal may say person think uniqu aesthet within fllation world popular sens humbl catch done make sex anoth one right give good bad judgment weevil found realesthearted flirt far beyond sex sex sometim peopl like lot draw place exhibit tri choos draw understand art paint need occasion ascent paint meet art buy home hang bedroom often build romant relationship draw time willing chang due extern intern factor chang bedroom need take pictur enjoy appreci also express evalu tast evalu draw paint hung bedroom hous enjoy pictur enjoy pictur live pictur think flirt person think process enjoy paint complex place aris often peopl know peopl harm draw sometim defend draw bedroom home deal draw deal draw unlimit other think tast pictur necessari pictur tast right make meaningless relationship result vicin castic toxic creat human deal without go framework civil sri lankan framework enjoy paint art may like retain balanc along brand circus balanc balanc sinc pay spend time spend circu enjoy difficult sport balanc think human transact color vari transact multi dimeni sometim plane seen surfac transact underscor may eye eye blade seen transact one layer human transact bit dri activ',\n",
              " 'crictorslah peopl usual write person charact matter like team sri lanka want sri lanka sri lanka hembiriissa crictorslah peopl bring lion bring cup ok',\n",
              " 'today import factor digit market everi one larger corpor busi small corpor busi increas sale busi make brand thing becom uncontrol thing mani peopl think lot digit market make page facebook facebook facebook find buse digit market realli differ facebook market one littl part digit market import someon busi appli digit market social media market come creativ strateiv like web develop strategi busini definit success one exampl abl appoint director member countri econom problem covard brandlab team went go beyond gener tradit digit market signific method use uplift busi mani main busi sri lanka abl provid foreign exchang usa australia provid foreign institut usa australia serv oversea usa australia serv oversea usa australia serv oversea usa australia remind make big success space digit market sri lanka mean method methodolog today import factor digit market everi one larger corpor busi small corpor busi increas sale busi make brand thing becom uncontrol thing harendrab bancelessdreambu riterab bandrenaurif krepreb comment digitallymaket digitalmaket digitallymarket',\n",
              " 'contribut princ wale colleg media center earth day mani thing occur confess demonstr vaccin vacant podium kavindu victori thank nipun sandun invit print ofhana print wale cambabrian cmbu judg mori',\n",
              " 'yout govac program held presid today pm watch use news zomom note kindli inform journalist opportun interrog',\n",
              " 'six twin go see twin haseitu malli donat free deliveri free deliveri deliveri girl',\n",
              " 'dream click wisish prefer smartphon dfcc dfcbank dfinorv finerscros makewar wish wish dfccard dficitcard dfccard dfcccccard dfccccccccard dfccccccccccard dfcccccccccccccccard dfccccccccccccccccccccccccccccccccccccccccccccccccccccccccccccccccccccccccccccccccccc',\n",
              " 'roud moment pera peep warm greet e',\n",
              " 'buddhist sacr citi year year someth think',\n",
              " 'lodg complain peopl given wrong fire tilini priyamamali look complaint claim activ browser creat fals falsehood engag money make fals scratch truth creat fals falsehood engag money',\n",
              " 'write prejudic putha type type yoob job happi june juli morn phone friend manchanga left ra ask polic slave island place polic get back court polic go polic ratthdiya polic station polic station attorney bope britain brother see arrest struggl see everyon els heard never talk ask front court front case confid confid best sure best guarantor come bail pm fort courtyard gather fort court went back polic ratwatt present courtyard year new junior lawyer known group velcol senior attorney know suprem law court work alreadi start work day court work senior said senior offici sever involv imagin heen even tortur find senior lawyer kaushal sir littl interest struggl told sir rattawa use sirrt bail applic sir rattawa find anyon sir sir ok crimin come lett teagalaya peopl sure later learn kaushal sir first bail bail kaushal sir still advis back case humbl teacher instruct talk case abl overcom exampl kaushal said putha type doout tepe jour jour jour happi basl baslelect presid',\n",
              " 'miss alert anoth student peradeniya univers engin faculti disappear',\n",
              " 'countri bankrupt digniti say countri bankrupt digniti even govern govern sri lankan passport countri die understand go go told restructur debt understand complet stori harshadesilva harssha colombo harsasilwa kaka see less',\n",
              " 'polic day murder go behin politician abnorm polic day murder polic th polic day celebr today presid prime minist speaker went five ceremoni polic countri law order protect countri law order polic say anoth gener depart govern secur forc therefor govern agenc bound protect law countri appli gener law public servic',\n",
              " 'youth made cricket field back world lion back champ prod cricket teamsrilanka srilankacecket lankanlion siacup',\n",
              " 'dear amanda alway thank life beauti word thank life read write mind fill ping sit back push back rainforc captain thank love love much understand feel beauti word like sorri',\n",
              " 'seven moali almeida welcom award final wrote wrote book date countri shehan happi proud',\n",
              " 'kricket peopl usual write person charact okay say okay may',\n",
              " 'one beauti day young girl game stream field today first time first one bring singl roof exchang friendship roof meet first life get chanc top strear nero team highlight event today see know',\n",
              " 'primari educ give teacher train educ educ beneficiari gender studi compulsori subject',\n",
              " 'cyber crime boy parkoo philosoph babi spoken cyber crimesmi coupl expertis fraud threat defam slander defam slander lot crime understand peopl peopl understand peopl give peopl fear peopl give push make law stop give stupid person learn english critic convers break stigma']"
            ]
          },
          "metadata": {},
          "execution_count": 352
        }
      ]
    },
    {
      "cell_type": "markdown",
      "source": [
        "trnsform sentence to word and add to positive/negative column to y variable"
      ],
      "metadata": {
        "id": "cimZaZ-96S1i"
      }
    },
    {
      "cell_type": "code",
      "source": [
        "from sklearn.feature_extraction.text import CountVectorizer\n",
        "cv = CountVectorizer(max_features = 1400)\n",
        "X = cv.fit_transform(corpus).toarray()\n",
        "y = df.iloc[:, -1].values"
      ],
      "metadata": {
        "id": "3c-9A8-Aa2DK"
      },
      "execution_count": null,
      "outputs": []
    },
    {
      "cell_type": "code",
      "source": [
        "y"
      ],
      "metadata": {
        "colab": {
          "base_uri": "https://localhost:8080/"
        },
        "id": "TZPX5uSEdAJz",
        "outputId": "c75c5141-9549-4df9-aab9-8b2df007cc38"
      },
      "execution_count": null,
      "outputs": [
        {
          "output_type": "execute_result",
          "data": {
            "text/plain": [
              "array([1, 1, 1, 1, 1, 0, 0, 0, 0, 0, 1, 1, 1, 1, 1, 0, 0, 0, 0, 0, 1, 1,\n",
              "       1, 1, 1, 0, 0, 0, 0, 0, 1, 1, 1, 1, 1, 0, 0, 0, 0, 0, 1, 1, 1, 1,\n",
              "       1, 0, 0, 0, 0, 0, 1, 1, 1, 1, 1, 0, 0, 0, 0, 0, 1, 1, 1, 1, 1, 0,\n",
              "       0, 0, 0, 0, 0, 0, 0, 0, 0, 1, 1, 1, 1, 1, 1, 1, 1, 1, 1, 1, 0, 0,\n",
              "       0, 0, 0, 0, 1, 1, 1, 1, 1, 0, 0])"
            ]
          },
          "metadata": {},
          "execution_count": 354
        }
      ]
    },
    {
      "cell_type": "code",
      "source": [
        "# no of features/columns/words in X\n",
        "len(X[0])"
      ],
      "metadata": {
        "colab": {
          "base_uri": "https://localhost:8080/"
        },
        "id": "K6O626pGcKie",
        "outputId": "87a16bd2-ff27-42ac-e0cb-4e23e826f7b7"
      },
      "execution_count": null,
      "outputs": [
        {
          "output_type": "execute_result",
          "data": {
            "text/plain": [
              "1400"
            ]
          },
          "metadata": {},
          "execution_count": 355
        }
      ]
    },
    {
      "cell_type": "markdown",
      "source": [
        "split data set as train and test set"
      ],
      "metadata": {
        "id": "zbCZ-ch16o4r"
      }
    },
    {
      "cell_type": "code",
      "source": [
        "from sklearn.model_selection import train_test_split\n",
        "X_train, X_test, y_train, y_test = train_test_split(X, y, test_size = 0.20, random_state = 4)"
      ],
      "metadata": {
        "id": "PdGLrebucQJ9"
      },
      "execution_count": null,
      "outputs": []
    },
    {
      "cell_type": "markdown",
      "source": [
        "add and train model. use naive bayes"
      ],
      "metadata": {
        "id": "-5vYD80-60R5"
      }
    },
    {
      "cell_type": "code",
      "source": [
        "from sklearn.naive_bayes import GaussianNB\n",
        "classifier = GaussianNB()\n",
        "classifier.fit(X_train, y_train)"
      ],
      "metadata": {
        "colab": {
          "base_uri": "https://localhost:8080/"
        },
        "id": "ms1qpDWtcUJz",
        "outputId": "d1cd19dd-1f9a-4954-b76c-b4cfe49913d8"
      },
      "execution_count": null,
      "outputs": [
        {
          "output_type": "execute_result",
          "data": {
            "text/plain": [
              "GaussianNB()"
            ]
          },
          "metadata": {},
          "execution_count": 369
        }
      ]
    },
    {
      "cell_type": "markdown",
      "source": [
        "compare actual and test values"
      ],
      "metadata": {
        "id": "5k6_K9G36-gt"
      }
    },
    {
      "cell_type": "code",
      "source": [
        "y_pred = classifier.predict(X_test)\n",
        "print(np.concatenate((y_pred.reshape(len(y_pred),1), y_test.reshape(len(y_test),1)),1))"
      ],
      "metadata": {
        "colab": {
          "base_uri": "https://localhost:8080/"
        },
        "id": "OK8Lq9oNe7X3",
        "outputId": "a5273195-0782-4484-8034-ce975c1dd9e8"
      },
      "execution_count": null,
      "outputs": [
        {
          "output_type": "stream",
          "name": "stdout",
          "text": [
            "[[1 1]\n",
            " [1 1]\n",
            " [1 1]\n",
            " [0 0]\n",
            " [1 1]\n",
            " [1 1]\n",
            " [1 1]\n",
            " [0 0]\n",
            " [0 0]\n",
            " [0 1]\n",
            " [1 1]\n",
            " [0 1]\n",
            " [0 0]\n",
            " [0 0]\n",
            " [0 1]\n",
            " [1 0]\n",
            " [1 1]\n",
            " [0 0]\n",
            " [0 0]\n",
            " [0 1]]\n"
          ]
        }
      ]
    },
    {
      "cell_type": "markdown",
      "source": [
        "find the accuracy in model"
      ],
      "metadata": {
        "id": "SiIKp3eR7HYC"
      }
    },
    {
      "cell_type": "code",
      "source": [
        "from sklearn.metrics import confusion_matrix, accuracy_score\n",
        "cm = confusion_matrix(y_test, y_pred)\n",
        "print(cm)\n",
        "accuracy_score(y_test, y_pred)"
      ],
      "metadata": {
        "colab": {
          "base_uri": "https://localhost:8080/"
        },
        "id": "AFfd1k6tdLK1",
        "outputId": "793ff898-4b3d-4cb4-b4ac-c2e0603e9481"
      },
      "execution_count": null,
      "outputs": [
        {
          "output_type": "stream",
          "name": "stdout",
          "text": [
            "[[7 1]\n",
            " [4 8]]\n"
          ]
        },
        {
          "output_type": "execute_result",
          "data": {
            "text/plain": [
              "0.75"
            ]
          },
          "metadata": {},
          "execution_count": 371
        }
      ]
    },
    {
      "cell_type": "markdown",
      "source": [
        "this model has 75% accuracy"
      ],
      "metadata": {
        "id": "5n3J1-769i2a"
      }
    }
  ]
}